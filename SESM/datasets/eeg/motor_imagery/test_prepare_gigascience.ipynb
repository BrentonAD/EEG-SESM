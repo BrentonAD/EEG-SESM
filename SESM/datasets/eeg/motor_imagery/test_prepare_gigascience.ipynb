{
 "cells": [
  {
   "cell_type": "code",
   "execution_count": 21,
   "metadata": {},
   "outputs": [],
   "source": [
    "import scipy.io as sio\n",
    "import numpy as np\n",
    "\n",
    "from mne.filter import filter_data, resample\n",
    "\n",
    "PRE_EVENT_DURATION = 1 # The amount of time (in seconds) to include before the stimulus\n",
    "POST_EVENT_DURATION = 1 # The amount of time (in seconds) to include after the stimulus\n",
    "EVENT_DURATION = 3\n",
    "\n",
    "CHANNELS = [\n",
    "    \"FP1\",\n",
    "    \"AF7\",\n",
    "    \"AF3\",\n",
    "    \"F1\",\n",
    "    \"F3\",\n",
    "    \"F5\",\n",
    "    \"F7\",\n",
    "    \"FT7\",\n",
    "    \"FC5\",\n",
    "    \"FC3\",\n",
    "    \"FC1\",\n",
    "    \"C1\",\n",
    "    \"C3\",\n",
    "    \"C5\",\n",
    "    \"T7\",\n",
    "    \"TP7\",\n",
    "    \"CP5\",\n",
    "    \"CP3\",\n",
    "    \"CP1\",\n",
    "    \"P1\",\n",
    "    \"P3\",\n",
    "    \"P5\",\n",
    "    \"P7\",\n",
    "    \"P9\",\n",
    "    \"PO7\",\n",
    "    \"PO3\",\n",
    "    \"O1\",\n",
    "    \"IZ\",\n",
    "    \"OZ\",\n",
    "    \"POZ\",\n",
    "    \"PZ\",\n",
    "    \"CPZ\",\n",
    "    \"FPZ\",\n",
    "    \"FP2\",\n",
    "    \"AF8\",\n",
    "    \"AF4\",\n",
    "    \"AFZ\",\n",
    "    \"FZ\",\n",
    "    \"F2\",\n",
    "    \"F4\",\n",
    "    \"F6\",\n",
    "    \"F8\",\n",
    "    \"FT8\",\n",
    "    \"FC6\",\n",
    "    \"FC4\",\n",
    "    \"FC2\",\n",
    "    \"FCZ\",\n",
    "    \"CZ\",\n",
    "    \"C2\",\n",
    "    \"C4\",\n",
    "    \"C6\",\n",
    "    \"T8\",\n",
    "    \"TP8\",\n",
    "    \"CP6\",\n",
    "    \"CP4\",\n",
    "    \"CP2\",\n",
    "    \"P2\",\n",
    "    \"P4\",\n",
    "    \"P6\",\n",
    "    \"P8\",\n",
    "    \"P10\",\n",
    "    \"PO8\",\n",
    "    \"PO4\",\n",
    "    \"O2\",\n",
    "]"
   ]
  },
  {
   "cell_type": "code",
   "execution_count": 6,
   "metadata": {},
   "outputs": [
    {
     "data": {
      "text/plain": [
       "array([[array([[0, 0, 0, ..., 0, 0, 0]], dtype=uint8)]], dtype=object)"
      ]
     },
     "execution_count": 6,
     "metadata": {},
     "output_type": "execute_result"
    }
   ],
   "source": [
    "sio.loadmat(r\"E:\\s222165064\\motor_imagery\\raw\\s01.mat\")[\"eeg\"][\"imagery_event\"]"
   ]
  },
  {
   "cell_type": "code",
   "execution_count": null,
   "metadata": {},
   "outputs": [],
   "source": []
  },
  {
   "cell_type": "code",
   "execution_count": 25,
   "metadata": {},
   "outputs": [],
   "source": [
    "raw_mat = sio.loadmat(r\"E:\\s222165064\\motor_imagery\\raw\\s01.mat\",simplify_cells=True)[\"eeg\"]\n",
    "\n",
    "sample_rate = raw_mat[\"srate\"]\n",
    "window_before_event_frames = int(PRE_EVENT_DURATION*sample_rate)\n",
    "window_after_event_frames = int(POST_EVENT_DURATION*sample_rate)\n",
    "event_window_frames = int(EVENT_DURATION*sample_rate)\n",
    "\n",
    "total_window_size = PRE_EVENT_DURATION + EVENT_DURATION + POST_EVENT_DURATION\n",
    "\n",
    "event_onsets = raw_mat[\"imagery_event\"].nonzero()[0]\n",
    "\n",
    "# Initialize an array to store the samples\n",
    "left_samples = []\n",
    "right_samples = []\n",
    "\n",
    "# Iterate over each event index\n",
    "for idx in event_onsets:\n",
    "    # Calculate the start and end indices for the sample\n",
    "    start_idx = idx - window_before_event_frames\n",
    "    end_idx = idx + event_window_frames + window_after_event_frames\n",
    "    \n",
    "    # Ensure the indices are within bounds\n",
    "    start_idx = max(0, start_idx)\n",
    "    end_idx = min(len(raw_mat[\"imagery_event\"]), end_idx)\n",
    "    \n",
    "    # Extract the sample from the data arrays\n",
    "    left_sample = raw_mat[\"imagery_left\"][[0,1], start_idx:end_idx]\n",
    "    right_sample = raw_mat[\"imagery_right\"][[0,1], start_idx:end_idx]\n",
    "    \n",
    "    # Add the sample to the list of samples\n",
    "    left_samples.append(left_sample)\n",
    "    right_samples.append(right_sample)\n",
    "\n",
    "# Convert the list of samples to a numpy array\n",
    "imagery_left = np.array(left_samples)\n",
    "imagery_right = np.array(right_samples)\n",
    "\n",
    "x = np.concatenate((imagery_left, imagery_right), axis=0)\n",
    "y = np.concatenate((np.zeros(imagery_left.shape[0]), np.ones(imagery_right.shape[0])))\n",
    "\n",
    "x_filtered = filter_data(x.astype(np.float64), sample_rate, 3, 40, phase='zero', verbose=False)\n",
    "# down sample to 100Hz\n",
    "x_filtered_resampled = resample(x_filtered, down=sample_rate/100)"
   ]
  },
  {
   "cell_type": "code",
   "execution_count": 24,
   "metadata": {},
   "outputs": [
    {
     "data": {
      "text/plain": [
       "512"
      ]
     },
     "execution_count": 24,
     "metadata": {},
     "output_type": "execute_result"
    }
   ],
   "source": [
    "sample_rate"
   ]
  },
  {
   "cell_type": "code",
   "execution_count": 26,
   "metadata": {},
   "outputs": [
    {
     "name": "stdout",
     "output_type": "stream",
     "text": [
      "(200, 2, 2560)\n",
      "(200, 2, 500)\n"
     ]
    }
   ],
   "source": [
    "print(x_filtered.shape)\n",
    "print(x_filtered_resampled.shape)"
   ]
  },
  {
   "cell_type": "code",
   "execution_count": 15,
   "metadata": {},
   "outputs": [
    {
     "data": {
      "text/plain": [
       "(200, 2, 2560)"
      ]
     },
     "execution_count": 15,
     "metadata": {},
     "output_type": "execute_result"
    }
   ],
   "source": [
    "x.shape"
   ]
  },
  {
   "cell_type": "code",
   "execution_count": 18,
   "metadata": {},
   "outputs": [],
   "source": [
    "x_filtered= filter_data(x.astype(np.float64), sample_rate, 3, 40, phase='zero', verbose=False)"
   ]
  },
  {
   "cell_type": "code",
   "execution_count": 121,
   "metadata": {},
   "outputs": [
    {
     "name": "stdout",
     "output_type": "stream",
     "text": [
      "(68, 358400)\n",
      "(68, 358400)\n",
      "[0 0 0 ... 0 0 0]\n",
      "[-2000  5000]\n",
      "512\n",
      "100\n",
      "100\n",
      "(100,)\n",
      "(100,)\n"
     ]
    }
   ],
   "source": [
    "print(raw_mat['imagery_left'].shape)\n",
    "print(raw_mat['imagery_right'].shape)\n",
    "print(raw_mat['imagery_event'])\n",
    "print(raw_mat[\"frame\"])\n",
    "print(raw_mat[\"srate\"])\n",
    "\n",
    "print(raw_mat[\"n_imagery_trials\"])\n",
    "print(np.count_nonzero(raw_mat['imagery_event']))\n",
    "\n",
    "print(raw_mat[\"imagery_event\"].nonzero()[0].shape)\n",
    "print(np.where(raw_mat[\"imagery_event\"])[0].shape)"
   ]
  },
  {
   "cell_type": "code",
   "execution_count": 3,
   "metadata": {},
   "outputs": [],
   "source": [
    "sleep_edf_sample = np.load(r\"E:\\s222165064\\sleep_edf\\prepared\\fpz_cz\\SC4001E0.npz\")\n",
    "motor_imagery_sample = np.load(r\"E:\\s222165064\\motor_imagery\\prepared\\s01.npz\")"
   ]
  },
  {
   "cell_type": "code",
   "execution_count": 27,
   "metadata": {},
   "outputs": [],
   "source": [
    "del motor_imagery_sample"
   ]
  },
  {
   "cell_type": "code",
   "execution_count": 4,
   "metadata": {},
   "outputs": [
    {
     "name": "stdout",
     "output_type": "stream",
     "text": [
      "(200, 2, 2560)\n",
      "(200,)\n",
      "(841, 3000, 1)\n"
     ]
    }
   ],
   "source": [
    "print(motor_imagery_sample[\"x\"].shape)\n",
    "print(motor_imagery_sample[\"y\"].shape)\n",
    "\n",
    "print(sleep_edf_sample[\"x\"].shape)"
   ]
  },
  {
   "cell_type": "code",
   "execution_count": 183,
   "metadata": {},
   "outputs": [
    {
     "data": {
      "text/plain": [
       "array([-28069.746, -28114.746, -28026.996, -28049.246, -28020.746,\n",
       "       -27885.246, -27544.246, -27328.746, -26971.246, -26957.746,\n",
       "       -27101.996, -27138.746, -27088.496, -27274.246, -27690.996,\n",
       "       -27373.496, -27023.246, -26472.246, -25747.496, -25288.746,\n",
       "       -25347.996, -26074.996, -26531.746, -26157.496, -26026.496,\n",
       "       -25899.996, -25701.496, -25473.246, -25066.746, -24593.496,\n",
       "       -24530.246, -24894.996, -25010.496, -25228.746, -25296.746,\n",
       "       -25215.996, -25351.996, -26112.746, -26177.246, -25796.496,\n",
       "       -25481.996, -25723.996, -25642.746, -25710.746, -25886.496,\n",
       "       -26055.746, -25980.996, -26291.996, -26512.246, -26361.996,\n",
       "       -26446.746, -26815.746, -27433.996, -28244.996, -28248.746,\n",
       "       -28031.996, -27862.246, -27619.746, -27424.496, -27362.746,\n",
       "       -27539.496, -27493.996, -27423.246, -27611.246, -27765.746,\n",
       "       -28228.996, -28286.996, -28215.996, -28069.496, -28161.996,\n",
       "       -28501.996, -28537.996, -28648.996, -28225.246, -28288.496,\n",
       "       -27883.246, -27929.246, -28346.246, -28505.246, -28373.746,\n",
       "       -28462.996, -28290.246, -28779.496, -28729.246, -28762.246,\n",
       "       -29123.746, -29507.746, -29500.246, -29671.496, -29452.246,\n",
       "       -29396.246, -29352.996, -29816.746, -30103.996, -29851.996,\n",
       "       -29493.246, -29512.496, -29368.246, -29597.746, -29788.996],\n",
       "      dtype=float32)"
      ]
     },
     "execution_count": 183,
     "metadata": {},
     "output_type": "execute_result"
    }
   ],
   "source": [
    "raw_mat[\"imagery_left\"][0][:100]"
   ]
  },
  {
   "cell_type": "code",
   "execution_count": 14,
   "metadata": {},
   "outputs": [
    {
     "name": "stdout",
     "output_type": "stream",
     "text": [
      "0.017061979\n",
      "0.303414\n"
     ]
    }
   ],
   "source": [
    "# print(sleep_edf_sample[\"x\"][0,:50,0])\n",
    "# print(motor_imagery_sample[\"x\"][0,0,:50])\n",
    "\n",
    "print(np.max(sleep_edf_sample[\"x\"]))\n",
    "print(np.max(motor_imagery_sample[\"x\"]))"
   ]
  },
  {
   "cell_type": "code",
   "execution_count": 17,
   "metadata": {},
   "outputs": [
    {
     "data": {
      "image/png": "[encoded data removed]",
      "text/plain": [
       "<Figure size 300x100 with 1 Axes>"
      ]
     },
     "metadata": {},
     "output_type": "display_data"
    }
   ],
   "source": [
    "import matplotlib.pyplot as plt\n",
    "plt.plot(np.arange(3000), sleep_edf_sample[\"x\"][0], color='black', linewidth=0.15)\n",
    "plt.gca().set_axis_off()\n",
    "plt.gcf().set_size_inches(3,1)"
   ]
  },
  {
   "cell_type": "code",
   "execution_count": 19,
   "metadata": {},
   "outputs": [
    {
     "data": {
      "image/png": "[encoded data removed]",
      "text/plain": [
       "<Figure size 1000x400 with 1 Axes>"
      ]
     },
     "metadata": {},
     "output_type": "display_data"
    }
   ],
   "source": [
    "import matplotlib.pyplot as plt\n",
    "plt.plot(np.arange(2560), x_filtered[0][0], color='black', linewidth=0.15)\n",
    "#plt.plot(np.arange(2560), motor_imagery_sample[\"x\"][9][1], color='blue', linewidth=0.15)\n",
    "#plt.gca().set_axis_off()\n",
    "plt.gcf().set_size_inches(10,4)"
   ]
  },
  {
   "cell_type": "code",
   "execution_count": null,
   "metadata": {},
   "outputs": [],
   "source": [
    "# -*- coding: utf-8 -*-\n",
    "#\n",
    "# Authors: Swolf <swolfforever@gmail.com>\n",
    "# Date: 2021/02/22\n",
    "# License: MIT License\n",
    "\"\"\"\n",
    "GigaDb Motor imagery dataset.\n",
    "\"\"\"\n",
    "from typing import Union, Optional, Dict, List, cast\n",
    "from pathlib import Path\n",
    "\n",
    "import numpy as np\n",
    "from mne import create_info\n",
    "from mne.io import Raw, RawArray\n",
    "from mne.channels import make_standard_montage\n",
    "from .base import BaseDataset\n",
    "from ..utils.download import mne_data_path\n",
    "from ..utils.channels import upper_ch_names\n",
    "from ..utils.io import loadmat\n",
    "\n",
    "GIGA_URL = \"ftp://penguin.genomics.cn/pub/10.5524/100001_101000/100295/mat_data/\"\n",
    "\n",
    "EVENTS = {\n",
    "    \"left_hand\": (1, (0, 3)),\n",
    "    \"right_hand\": (2, (0, 3)),\n",
    "}\n",
    "\n",
    "CHANNELS = [\n",
    "    \"FP1\",\n",
    "    \"AF7\",\n",
    "    \"AF3\",\n",
    "    \"F1\",\n",
    "    \"F3\",\n",
    "    \"F5\",\n",
    "    \"F7\",\n",
    "    \"FT7\",\n",
    "    \"FC5\",\n",
    "    \"FC3\",\n",
    "    \"FC1\",\n",
    "    \"C1\",\n",
    "    \"C3\",\n",
    "    \"C5\",\n",
    "    \"T7\",\n",
    "    \"TP7\",\n",
    "    \"CP5\",\n",
    "    \"CP3\",\n",
    "    \"CP1\",\n",
    "    \"P1\",\n",
    "    \"P3\",\n",
    "    \"P5\",\n",
    "    \"P7\",\n",
    "    \"P9\",\n",
    "    \"PO7\",\n",
    "    \"PO3\",\n",
    "    \"O1\",\n",
    "    \"IZ\",\n",
    "    \"OZ\",\n",
    "    \"POZ\",\n",
    "    \"PZ\",\n",
    "    \"CPZ\",\n",
    "    \"FPZ\",\n",
    "    \"FP2\",\n",
    "    \"AF8\",\n",
    "    \"AF4\",\n",
    "    \"AFZ\",\n",
    "    \"FZ\",\n",
    "    \"F2\",\n",
    "    \"F4\",\n",
    "    \"F6\",\n",
    "    \"F8\",\n",
    "    \"FT8\",\n",
    "    \"FC6\",\n",
    "    \"FC4\",\n",
    "    \"FC2\",\n",
    "    \"FCZ\",\n",
    "    \"CZ\",\n",
    "    \"C2\",\n",
    "    \"C4\",\n",
    "    \"C6\",\n",
    "    \"T8\",\n",
    "    \"TP8\",\n",
    "    \"CP6\",\n",
    "    \"CP4\",\n",
    "    \"CP2\",\n",
    "    \"P2\",\n",
    "    \"P4\",\n",
    "    \"P6\",\n",
    "    \"P8\",\n",
    "    \"P10\",\n",
    "    \"PO8\",\n",
    "    \"PO4\",\n",
    "    \"O2\",\n",
    "]\n",
    "\n",
    "    def data_path(\n",
    "        self,\n",
    "        subject: Union[str, int],\n",
    "        path: Optional[Union[str, Path]] = None,\n",
    "        force_update: bool = False,\n",
    "        update_path: Optional[bool] = None,\n",
    "        proxies: Optional[Dict[str, str]] = None,\n",
    "        verbose: Optional[Union[bool, str, int]] = None,\n",
    "    ) -> List[List[Union[str, Path]]]:\n",
    "        if subject not in self.subjects:\n",
    "            raise (ValueError(\"Invalid subject id\"))\n",
    "\n",
    "        subject = cast(int, subject)\n",
    "        url = \"{:s}s{:02d}.mat\".format(GIGA_URL, subject)\n",
    "        file_dest = mne_data_path(\n",
    "            url,\n",
    "            self.dataset_code,\n",
    "            path=path,\n",
    "            proxies=proxies,\n",
    "            force_update=force_update,\n",
    "            update_path=update_path,\n",
    "        )\n",
    "        dests = [[file_dest]]\n",
    "\n",
    "        return dests\n",
    "\n",
    "    def _get_single_subject_data(\n",
    "        self, subject: Union[str, int], verbose: Optional[Union[bool, str, int]] = None\n",
    "    ) -> Dict[str, Dict[str, Raw]]:\n",
    "        dests = self.data_path(subject)\n",
    "        montage = make_standard_montage(\"standard_1005\")\n",
    "        montage.rename_channels(\n",
    "            {ch_name: ch_name.upper() for ch_name in montage.ch_names}\n",
    "        )\n",
    "        # montage.ch_names = [ch_name.upper() for ch_name in montage.ch_names]\n",
    "\n",
    "        sess = dict()\n",
    "        for isess, run_dests in enumerate(dests):\n",
    "            runs = dict()\n",
    "            for irun, run_file in enumerate(run_dests):\n",
    "                raw_mat = loadmat(run_file)[\"eeg\"]\n",
    "                eeg_data_l = np.concatenate(\n",
    "                    (\n",
    "                        raw_mat[\"imagery_left\"] * 1e-6,\n",
    "                        raw_mat[\"imagery_event\"].reshape((1, -1)),\n",
    "                    ),\n",
    "                    axis=0,\n",
    "                )\n",
    "                eeg_data_r = np.concatenate(\n",
    "                    (\n",
    "                        raw_mat[\"imagery_right\"] * 1e-6,\n",
    "                        raw_mat[\"imagery_event\"].reshape((1, -1)) * 2,\n",
    "                    ),\n",
    "                    axis=0,\n",
    "                )\n",
    "\n",
    "                data = np.hstack(\n",
    "                    [eeg_data_l, np.zeros((eeg_data_l.shape[0], 500)), eeg_data_r]\n",
    "                )\n",
    "                ch_names = [ch_name.upper() for ch_name in self._CHANNELS] + [\n",
    "                    \"EMG1\",\n",
    "                    \"EMG2\",\n",
    "                    \"EMG3\",\n",
    "                    \"EMG4\",\n",
    "                    \"STI 014\",\n",
    "                ]\n",
    "                ch_types = [\"eeg\"] * len(self._CHANNELS) + [\"emg\"] * 4 + [\"stim\"]\n",
    "\n",
    "                info = create_info(\n",
    "                    ch_names=ch_names, ch_types=ch_types, sfreq=self.srate\n",
    "                )\n",
    "                raw = RawArray(data=data, info=info, verbose=verbose)\n",
    "                raw = upper_ch_names(raw)\n",
    "                raw.set_montage(montage)\n",
    "\n",
    "                runs[\"run_{:d}\".format(irun)] = raw\n",
    "            sess[\"session_{:d}\".format(isess)] = runs\n",
    "        return sess"
   ]
  }
 ],
 "metadata": {
  "kernelspec": {
   "display_name": "EEG-SESM-Data",
   "language": "python",
   "name": "python3"
  },
  "language_info": {
   "codemirror_mode": {
    "name": "ipython",
    "version": 3
   },
   "file_extension": ".py",
   "mimetype": "text/x-python",
   "name": "python",
   "nbconvert_exporter": "python",
   "pygments_lexer": "ipython3",
   "version": "3.10.13"
  }
 },
 "nbformat": 4,
 "nbformat_minor": 2
}
