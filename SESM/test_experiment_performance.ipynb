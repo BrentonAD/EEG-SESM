{
 "cells": [
  {
   "cell_type": "markdown",
   "metadata": {},
   "source": [
    "# Test Performance of experiments on test dataset"
   ]
  },
  {
   "cell_type": "code",
   "execution_count": 2,
   "metadata": {},
   "outputs": [
    {
     "name": "stderr",
     "output_type": "stream",
     "text": [
      "/home/brenton/.conda/envs/EEG-SESM/lib/python3.10/site-packages/pandas/core/computation/expressions.py:21: UserWarning: Pandas requires version '2.8.4' or newer of 'numexpr' (version '2.7.3' currently installed).\n",
      "  from pandas.core.computation.check import NUMEXPR_INSTALLED\n"
     ]
    },
    {
     "ename": "OSError",
     "evalue": "/home/brenton/.conda/envs/EEG-SESM/lib/python3.10/site-packages/torch/lib/../../../../libcublas.so.11: symbol cublasLtGetStatusString version libcublasLt.so.11 not defined in file libcublasLt.so.11 with link time reference",
     "output_type": "error",
     "traceback": [
      "\u001b[0;31m---------------------------------------------------------------------------\u001b[0m",
      "\u001b[0;31mOSError\u001b[0m                                   Traceback (most recent call last)",
      "Cell \u001b[0;32mIn[2], line 11\u001b[0m\n\u001b[1;32m      8\u001b[0m \u001b[38;5;28;01mimport\u001b[39;00m \u001b[38;5;21;01mmatplotlib\u001b[39;00m\u001b[38;5;21;01m.\u001b[39;00m\u001b[38;5;21;01mpyplot\u001b[39;00m \u001b[38;5;28;01mas\u001b[39;00m \u001b[38;5;21;01mplt\u001b[39;00m\n\u001b[1;32m      9\u001b[0m \u001b[38;5;28;01mimport\u001b[39;00m \u001b[38;5;21;01mseaborn\u001b[39;00m \u001b[38;5;28;01mas\u001b[39;00m \u001b[38;5;21;01msns\u001b[39;00m\n\u001b[0;32m---> 11\u001b[0m \u001b[38;5;28;01mimport\u001b[39;00m \u001b[38;5;21;01mtorch\u001b[39;00m\n\u001b[1;32m     12\u001b[0m \u001b[38;5;28;01mimport\u001b[39;00m \u001b[38;5;21;01mtorch\u001b[39;00m\u001b[38;5;21;01m.\u001b[39;00m\u001b[38;5;21;01mnn\u001b[39;00m\u001b[38;5;21;01m.\u001b[39;00m\u001b[38;5;21;01mfunctional\u001b[39;00m \u001b[38;5;28;01mas\u001b[39;00m \u001b[38;5;21;01mF\u001b[39;00m\n\u001b[1;32m     14\u001b[0m \u001b[38;5;28;01mfrom\u001b[39;00m \u001b[38;5;21;01msklearn\u001b[39;00m\u001b[38;5;21;01m.\u001b[39;00m\u001b[38;5;21;01mmetrics\u001b[39;00m \u001b[38;5;28;01mimport\u001b[39;00m confusion_matrix, classification_report\n",
      "File \u001b[0;32m~/.conda/envs/EEG-SESM/lib/python3.10/site-packages/torch/__init__.py:201\u001b[0m\n\u001b[1;32m    190\u001b[0m \u001b[38;5;28;01melse\u001b[39;00m:\n\u001b[1;32m    191\u001b[0m     \u001b[38;5;66;03m# Easy way.  You want this most of the time, because it will prevent\u001b[39;00m\n\u001b[1;32m    192\u001b[0m     \u001b[38;5;66;03m# C++ symbols from libtorch clobbering C++ symbols from other\u001b[39;00m\n\u001b[0;32m   (...)\u001b[0m\n\u001b[1;32m    198\u001b[0m     \u001b[38;5;66;03m#\u001b[39;00m\n\u001b[1;32m    199\u001b[0m     \u001b[38;5;66;03m# See Note [Global dependencies]\u001b[39;00m\n\u001b[1;32m    200\u001b[0m     \u001b[38;5;28;01mif\u001b[39;00m USE_GLOBAL_DEPS:\n\u001b[0;32m--> 201\u001b[0m         \u001b[43m_load_global_deps\u001b[49m\u001b[43m(\u001b[49m\u001b[43m)\u001b[49m\n\u001b[1;32m    202\u001b[0m     \u001b[38;5;28;01mfrom\u001b[39;00m \u001b[38;5;21;01mtorch\u001b[39;00m\u001b[38;5;21;01m.\u001b[39;00m\u001b[38;5;21;01m_C\u001b[39;00m \u001b[38;5;28;01mimport\u001b[39;00m \u001b[38;5;241m*\u001b[39m  \u001b[38;5;66;03m# noqa: F403\u001b[39;00m\n\u001b[1;32m    204\u001b[0m \u001b[38;5;66;03m# Appease the type checker; ordinarily this binding is inserted by the\u001b[39;00m\n\u001b[1;32m    205\u001b[0m \u001b[38;5;66;03m# torch._C module initialization code in C\u001b[39;00m\n",
      "File \u001b[0;32m~/.conda/envs/EEG-SESM/lib/python3.10/site-packages/torch/__init__.py:154\u001b[0m, in \u001b[0;36m_load_global_deps\u001b[0;34m()\u001b[0m\n\u001b[1;32m    151\u001b[0m here \u001b[38;5;241m=\u001b[39m os\u001b[38;5;241m.\u001b[39mpath\u001b[38;5;241m.\u001b[39mabspath(\u001b[38;5;18m__file__\u001b[39m)\n\u001b[1;32m    152\u001b[0m lib_path \u001b[38;5;241m=\u001b[39m os\u001b[38;5;241m.\u001b[39mpath\u001b[38;5;241m.\u001b[39mjoin(os\u001b[38;5;241m.\u001b[39mpath\u001b[38;5;241m.\u001b[39mdirname(here), \u001b[38;5;124m'\u001b[39m\u001b[38;5;124mlib\u001b[39m\u001b[38;5;124m'\u001b[39m, lib_name)\n\u001b[0;32m--> 154\u001b[0m \u001b[43mctypes\u001b[49m\u001b[38;5;241;43m.\u001b[39;49m\u001b[43mCDLL\u001b[49m\u001b[43m(\u001b[49m\u001b[43mlib_path\u001b[49m\u001b[43m,\u001b[49m\u001b[43m \u001b[49m\u001b[43mmode\u001b[49m\u001b[38;5;241;43m=\u001b[39;49m\u001b[43mctypes\u001b[49m\u001b[38;5;241;43m.\u001b[39;49m\u001b[43mRTLD_GLOBAL\u001b[49m\u001b[43m)\u001b[49m\n",
      "File \u001b[0;32m~/.conda/envs/EEG-SESM/lib/python3.10/ctypes/__init__.py:374\u001b[0m, in \u001b[0;36mCDLL.__init__\u001b[0;34m(self, name, mode, handle, use_errno, use_last_error, winmode)\u001b[0m\n\u001b[1;32m    371\u001b[0m \u001b[38;5;28mself\u001b[39m\u001b[38;5;241m.\u001b[39m_FuncPtr \u001b[38;5;241m=\u001b[39m _FuncPtr\n\u001b[1;32m    373\u001b[0m \u001b[38;5;28;01mif\u001b[39;00m handle \u001b[38;5;129;01mis\u001b[39;00m \u001b[38;5;28;01mNone\u001b[39;00m:\n\u001b[0;32m--> 374\u001b[0m     \u001b[38;5;28mself\u001b[39m\u001b[38;5;241m.\u001b[39m_handle \u001b[38;5;241m=\u001b[39m \u001b[43m_dlopen\u001b[49m\u001b[43m(\u001b[49m\u001b[38;5;28;43mself\u001b[39;49m\u001b[38;5;241;43m.\u001b[39;49m\u001b[43m_name\u001b[49m\u001b[43m,\u001b[49m\u001b[43m \u001b[49m\u001b[43mmode\u001b[49m\u001b[43m)\u001b[49m\n\u001b[1;32m    375\u001b[0m \u001b[38;5;28;01melse\u001b[39;00m:\n\u001b[1;32m    376\u001b[0m     \u001b[38;5;28mself\u001b[39m\u001b[38;5;241m.\u001b[39m_handle \u001b[38;5;241m=\u001b[39m handle\n",
      "\u001b[0;31mOSError\u001b[0m: /home/brenton/.conda/envs/EEG-SESM/lib/python3.10/site-packages/torch/lib/../../../../libcublas.so.11: symbol cublasLtGetStatusString version libcublasLt.so.11 not defined in file libcublasLt.so.11 with link time reference"
     ]
    }
   ],
   "source": [
    "import os\n",
    "import pickle\n",
    "import json\n",
    "from random import sample\n",
    "from tqdm.auto import tqdm\n",
    "import numpy as np\n",
    "\n",
    "import matplotlib.pyplot as plt\n",
    "import seaborn as sns\n",
    "\n",
    "import torch\n",
    "import torch.nn.functional as F\n",
    "\n",
    "from sklearn.metrics import confusion_matrix, classification_report\n",
    "from sklearn.metrics import (\n",
    "    accuracy_score,\n",
    "    precision_score,\n",
    "    recall_score\n",
    ")\n",
    "\n",
    "from sesm import get_data\n",
    "from trainer import PLModel"
   ]
  },
  {
   "cell_type": "markdown",
   "metadata": {},
   "source": [
    "## Load data and model"
   ]
  },
  {
   "cell_type": "code",
   "execution_count": 4,
   "metadata": {},
   "outputs": [],
   "source": [
    "CLASS_DICT = {\n",
    "    0: \"W\",\n",
    "    1: \"N1\",\n",
    "    2: \"N2\",\n",
    "    3: \"N3\",\n",
    "    4: \"REM\"\n",
    "}"
   ]
  },
  {
   "cell_type": "code",
   "execution_count": 5,
   "metadata": {},
   "outputs": [],
   "source": [
    "config = json.load(open(\"configs/sleep_edf.json\", \"r\"))"
   ]
  },
  {
   "cell_type": "code",
   "execution_count": 6,
   "metadata": {},
   "outputs": [
    {
     "name": "stdout",
     "output_type": "stream",
     "text": [
      "Load training set:\n",
      "Loading datasets/eeg/sleep_edf/prepared/fpz_cz/SC4031E0.npz ...\n",
      "Loading datasets/eeg/sleep_edf/prepared/fpz_cz/SC4032E0.npz ...\n",
      "Loading datasets/eeg/sleep_edf/prepared/fpz_cz/SC4041E0.npz ...\n",
      "Loading datasets/eeg/sleep_edf/prepared/fpz_cz/SC4042E0.npz ...\n",
      "Loading datasets/eeg/sleep_edf/prepared/fpz_cz/SC4051E0.npz ...\n",
      "Loading datasets/eeg/sleep_edf/prepared/fpz_cz/SC4052E0.npz ...\n",
      "Loading datasets/eeg/sleep_edf/prepared/fpz_cz/SC4061E0.npz ...\n",
      "Loading datasets/eeg/sleep_edf/prepared/fpz_cz/SC4062E0.npz ...\n",
      "Loading datasets/eeg/sleep_edf/prepared/fpz_cz/SC4071E0.npz ...\n",
      "Loading datasets/eeg/sleep_edf/prepared/fpz_cz/SC4072E0.npz ...\n",
      "Loading datasets/eeg/sleep_edf/prepared/fpz_cz/SC4081E0.npz ...\n",
      "Loading datasets/eeg/sleep_edf/prepared/fpz_cz/SC4082E0.npz ...\n",
      "Loading datasets/eeg/sleep_edf/prepared/fpz_cz/SC4091E0.npz ...\n",
      "Loading datasets/eeg/sleep_edf/prepared/fpz_cz/SC4092E0.npz ...\n",
      "Loading datasets/eeg/sleep_edf/prepared/fpz_cz/SC4101E0.npz ...\n",
      "Loading datasets/eeg/sleep_edf/prepared/fpz_cz/SC4102E0.npz ...\n",
      "Loading datasets/eeg/sleep_edf/prepared/fpz_cz/SC4111E0.npz ...\n",
      "Loading datasets/eeg/sleep_edf/prepared/fpz_cz/SC4112E0.npz ...\n",
      "Loading datasets/eeg/sleep_edf/prepared/fpz_cz/SC4121E0.npz ...\n",
      "Loading datasets/eeg/sleep_edf/prepared/fpz_cz/SC4122E0.npz ...\n",
      "Loading datasets/eeg/sleep_edf/prepared/fpz_cz/SC4131E0.npz ...\n",
      "Loading datasets/eeg/sleep_edf/prepared/fpz_cz/SC4141E0.npz ...\n",
      "Loading datasets/eeg/sleep_edf/prepared/fpz_cz/SC4142E0.npz ...\n",
      "Loading datasets/eeg/sleep_edf/prepared/fpz_cz/SC4151E0.npz ...\n",
      "Loading datasets/eeg/sleep_edf/prepared/fpz_cz/SC4152E0.npz ...\n",
      "Loading datasets/eeg/sleep_edf/prepared/fpz_cz/SC4161E0.npz ...\n",
      "Loading datasets/eeg/sleep_edf/prepared/fpz_cz/SC4162E0.npz ...\n",
      "Loading datasets/eeg/sleep_edf/prepared/fpz_cz/SC4171E0.npz ...\n",
      "Loading datasets/eeg/sleep_edf/prepared/fpz_cz/SC4172E0.npz ...\n",
      "Loading datasets/eeg/sleep_edf/prepared/fpz_cz/SC4181E0.npz ...\n",
      "Loading datasets/eeg/sleep_edf/prepared/fpz_cz/SC4182E0.npz ...\n",
      "Loading datasets/eeg/sleep_edf/prepared/fpz_cz/SC4191E0.npz ...\n",
      "Loading datasets/eeg/sleep_edf/prepared/fpz_cz/SC4192E0.npz ...\n",
      " \n",
      "Load validation set:\n",
      "Loading datasets/eeg/sleep_edf/prepared/fpz_cz/SC4001E0.npz ...\n",
      "Loading datasets/eeg/sleep_edf/prepared/fpz_cz/SC4002E0.npz ...\n",
      "Loading datasets/eeg/sleep_edf/prepared/fpz_cz/SC4011E0.npz ...\n",
      "Loading datasets/eeg/sleep_edf/prepared/fpz_cz/SC4012E0.npz ...\n",
      " \n",
      "Load test set:\n",
      "Loading datasets/eeg/sleep_edf/prepared/fpz_cz/SC4021E0.npz ...\n",
      "Loading datasets/eeg/sleep_edf/prepared/fpz_cz/SC4022E0.npz ...\n",
      " \n",
      "Training set: (36017, 3000, 1), (36017,)\n",
      "W: 7342\n",
      "N1: 2208\n",
      "N2: 15007\n",
      "N3: 4771\n",
      "REM: 6689\n",
      " \n",
      "Validation set: (4257, 3000, 1), (4257,)\n",
      "W: 690\n",
      "N1: 318\n",
      "N2: 1845\n",
      "N3: 718\n",
      "REM: 686\n",
      " \n",
      "Test set: (2034, 3000, 1), (2034,)\n",
      "W: 253\n",
      "N1: 278\n",
      "N2: 947\n",
      "N3: 214\n",
      "REM: 342\n",
      " \n",
      "Oversampled training set: (75035, 3000, 1), (75035,)\n",
      "W: 15007\n",
      "N1: 15007\n",
      "N2: 15007\n",
      "N3: 15007\n",
      "REM: 15007\n",
      " \n"
     ]
    }
   ],
   "source": [
    "train_loader, val_loader, test_loader, class_weights, max_len = get_data(\n",
    "    config[\"dataset\"], 4\n",
    ")\n",
    "config.update({\"class_weights\": class_weights, \"max_len\": max_len})"
   ]
  },
  {
   "cell_type": "code",
   "execution_count": 7,
   "metadata": {},
   "outputs": [],
   "source": [
    "# Set up experiment 1 config\n",
    "config_1 = config.copy()\n",
    "config_1[\"d_embed\"] = 16\n",
    "config_1[\"d_hidden\"] = 16\n",
    "config_1[\"d_kernel\"] = 10\n",
    "\n",
    "# Set up experiment 2 config\n",
    "config_2 = config.copy()\n",
    "config_2[\"d_kernel\"] = 10"
   ]
  },
  {
   "cell_type": "code",
   "execution_count": 8,
   "metadata": {},
   "outputs": [
    {
     "data": {
      "text/plain": [
       "<All keys matched successfully>"
      ]
     },
     "execution_count": 8,
     "metadata": {},
     "output_type": "execute_result"
    }
   ],
   "source": [
    "plmodel_exp1 = PLModel(stage=2, **config_1)\n",
    "plmodel_exp1.model.load_state_dict(torch.load(\"models/trained_model_exp1.pt\"))\n",
    "\n",
    "plmodel_exp2 = PLModel(stage=2, **config_2)\n",
    "plmodel_exp2.model.load_state_dict(torch.load(\"models/trained_model_exp2.pt\"))\n",
    "\n",
    "plmodel_exp3 = PLModel(stage=2, **config)\n",
    "plmodel_exp3.model.load_state_dict(torch.load(\"models/trained_model_exp3.pt\"))"
   ]
  },
  {
   "cell_type": "code",
   "execution_count": 9,
   "metadata": {},
   "outputs": [
    {
     "data": {
      "text/plain": [
       "Model(\n",
       "  (embedder): Embedder(\n",
       "    (embed): Sequential(\n",
       "      (0): Conv1d(1, 64, kernel_size=(50,), stride=(1,), padding=same)\n",
       "      (1): BatchNorm1d(64, eps=1e-05, momentum=0.1, affine=True, track_running_stats=True)\n",
       "      (2): Swish()\n",
       "    )\n",
       "  )\n",
       "  (conceptizer): Conceptizer(\n",
       "    (multi_head_selective_attention): MultiHeadSelectiveAttention(\n",
       "      (w_q): Linear(in_features=64, out_features=64, bias=True)\n",
       "      (w_k): Linear(in_features=64, out_features=64, bias=True)\n",
       "      (w_v): Linear(in_features=64, out_features=8, bias=True)\n",
       "      (dropout): Dropout(p=0.2, inplace=False)\n",
       "      (gumbel): GumbelSigmoid()\n",
       "    )\n",
       "    (encoder): Sequential(\n",
       "      (0): ConvNormPool(\n",
       "        (conv_1): Conv1d(64, 64, kernel_size=(50,), stride=(1,))\n",
       "        (conv_2): Conv1d(64, 64, kernel_size=(50,), stride=(1,))\n",
       "        (conv_3): Conv1d(64, 64, kernel_size=(50,), stride=(1,))\n",
       "        (swish_1): Swish()\n",
       "        (swish_2): Swish()\n",
       "        (swish_3): Swish()\n",
       "        (normalization_1): BatchNorm1d(64, eps=1e-05, momentum=0.1, affine=True, track_running_stats=True)\n",
       "        (normalization_2): BatchNorm1d(64, eps=1e-05, momentum=0.1, affine=True, track_running_stats=True)\n",
       "        (normalization_3): BatchNorm1d(64, eps=1e-05, momentum=0.1, affine=True, track_running_stats=True)\n",
       "        (pool): MaxPool1d(kernel_size=2, stride=2, padding=0, dilation=1, ceil_mode=False)\n",
       "      )\n",
       "      (1): ConvNormPool(\n",
       "        (conv_1): Conv1d(64, 64, kernel_size=(50,), stride=(1,))\n",
       "        (conv_2): Conv1d(64, 64, kernel_size=(50,), stride=(1,))\n",
       "        (conv_3): Conv1d(64, 64, kernel_size=(50,), stride=(1,))\n",
       "        (swish_1): Swish()\n",
       "        (swish_2): Swish()\n",
       "        (swish_3): Swish()\n",
       "        (normalization_1): BatchNorm1d(64, eps=1e-05, momentum=0.1, affine=True, track_running_stats=True)\n",
       "        (normalization_2): BatchNorm1d(64, eps=1e-05, momentum=0.1, affine=True, track_running_stats=True)\n",
       "        (normalization_3): BatchNorm1d(64, eps=1e-05, momentum=0.1, affine=True, track_running_stats=True)\n",
       "        (pool): MaxPool1d(kernel_size=2, stride=2, padding=0, dilation=1, ceil_mode=False)\n",
       "      )\n",
       "      (2): AdaptiveMaxPool1d(output_size=1)\n",
       "    )\n",
       "  )\n",
       "  (parameterizer): Parameterizer(\n",
       "    (encoder): Sequential(\n",
       "      (0): ConvNormPool(\n",
       "        (conv_1): Conv1d(64, 64, kernel_size=(50,), stride=(1,))\n",
       "        (conv_2): Conv1d(64, 64, kernel_size=(50,), stride=(1,))\n",
       "        (conv_3): Conv1d(64, 64, kernel_size=(50,), stride=(1,))\n",
       "        (swish_1): Swish()\n",
       "        (swish_2): Swish()\n",
       "        (swish_3): Swish()\n",
       "        (normalization_1): BatchNorm1d(64, eps=1e-05, momentum=0.1, affine=True, track_running_stats=True)\n",
       "        (normalization_2): BatchNorm1d(64, eps=1e-05, momentum=0.1, affine=True, track_running_stats=True)\n",
       "        (normalization_3): BatchNorm1d(64, eps=1e-05, momentum=0.1, affine=True, track_running_stats=True)\n",
       "        (pool): MaxPool1d(kernel_size=2, stride=2, padding=0, dilation=1, ceil_mode=False)\n",
       "      )\n",
       "      (1): ConvNormPool(\n",
       "        (conv_1): Conv1d(64, 64, kernel_size=(50,), stride=(1,))\n",
       "        (conv_2): Conv1d(64, 64, kernel_size=(50,), stride=(1,))\n",
       "        (conv_3): Conv1d(64, 64, kernel_size=(50,), stride=(1,))\n",
       "        (swish_1): Swish()\n",
       "        (swish_2): Swish()\n",
       "        (swish_3): Swish()\n",
       "        (normalization_1): BatchNorm1d(64, eps=1e-05, momentum=0.1, affine=True, track_running_stats=True)\n",
       "        (normalization_2): BatchNorm1d(64, eps=1e-05, momentum=0.1, affine=True, track_running_stats=True)\n",
       "        (normalization_3): BatchNorm1d(64, eps=1e-05, momentum=0.1, affine=True, track_running_stats=True)\n",
       "        (pool): MaxPool1d(kernel_size=2, stride=2, padding=0, dilation=1, ceil_mode=False)\n",
       "      )\n",
       "      (2): AdaptiveMaxPool1d(output_size=1)\n",
       "    )\n",
       "    (proj): Sequential(\n",
       "      (0): BatchNorm1d(64, eps=1e-05, momentum=0.1, affine=True, track_running_stats=True)\n",
       "      (1): Swish()\n",
       "      (2): Dropout(p=0.2, inplace=False)\n",
       "      (3): Linear(in_features=64, out_features=8, bias=True)\n",
       "      (4): Softplus(beta=1, threshold=20)\n",
       "    )\n",
       "  )\n",
       "  (aggregator): Aggregator(\n",
       "    (fc): Sequential(\n",
       "      (0): BatchNorm1d(64, eps=1e-05, momentum=0.1, affine=True, track_running_stats=True)\n",
       "      (1): Swish()\n",
       "      (2): Linear(in_features=64, out_features=5, bias=True)\n",
       "    )\n",
       "  )\n",
       ")"
      ]
     },
     "execution_count": 9,
     "metadata": {},
     "output_type": "execute_result"
    }
   ],
   "source": [
    "model_exp1 = plmodel_exp1.model\n",
    "model_exp2 = plmodel_exp2.model\n",
    "model_exp3 = plmodel_exp3.model\n",
    "\n",
    "model_exp1.eval()\n",
    "model_exp2.eval()\n",
    "model_exp3.eval()"
   ]
  },
  {
   "cell_type": "markdown",
   "metadata": {},
   "source": [
    "## Calculate accuracy on test dataset"
   ]
  },
  {
   "cell_type": "code",
   "execution_count": 10,
   "metadata": {},
   "outputs": [],
   "source": [
    "def test_model(model, output_location, model_name):\n",
    "\n",
    "    os.makedirs(output_location, exist_ok=True)\n",
    "    os.makedirs(os.path.join(output_location, model_name), exist_ok=True)\n",
    "\n",
    "    x_orig = []\n",
    "    y_pred = []\n",
    "    y_true = []\n",
    "    selective_actions_list = []\n",
    "    relevance_weights_list = []\n",
    "    predicted_head = []\n",
    "\n",
    "    for x, y in tqdm(test_loader):\n",
    "        x, y = x, y\n",
    "        batch_size = x.shape[0]\n",
    "        y_hat_, _, selective_actions, relevance_weights = model(x, x != 0, ignore_relevance_weights=True) \n",
    "        \n",
    "        y_hat_ = y_hat_.detach().reshape(batch_size, config['n_heads'], -1).cpu()\n",
    "        selective_actions = selective_actions.detach().cpu()\n",
    "        relevance_weights = relevance_weights.detach().cpu() \n",
    "        x = x.detach().cpu()\n",
    "        y = y.detach().cpu()\n",
    "\n",
    "        y_hat = (y_hat_ * relevance_weights.unsqueeze(-1)).sum(1)\n",
    "\n",
    "        x_orig.append(np.concatenate(x.numpy()))\n",
    "        y_pred.append(y_hat.argmax(1).numpy())\n",
    "        y_true.append(y.numpy())\n",
    "        selective_actions_list.append(selective_actions.numpy())\n",
    "        relevance_weights_list.append(relevance_weights.numpy())\n",
    "        predicted_head.append(F.softmax(y_hat_, -1).numpy())\n",
    "        del x, y, y_hat, _, selective_actions, relevance_weights\n",
    "        \n",
    "    x_orig = np.concatenate(x_orig)\n",
    "    y_true = np.concatenate(y_true)\n",
    "    y_pred = np.concatenate(y_pred)\n",
    "    selective_actions = np.concatenate(selective_actions_list)\n",
    "    relevance_weights = np.concatenate(relevance_weights_list)\n",
    "    predicted_head = np.concatenate(predicted_head)\n",
    "\n",
    "    with open(f'{output_location}/{model_name}/x_orig_test.pkl','wb') as f:\n",
    "        pickle.dump(x_orig, f, protocol=pickle.HIGHEST_PROTOCOL)\n",
    "\n",
    "    with open(f'{output_location}/{model_name}/y_true_test.pkl','wb') as f:\n",
    "        pickle.dump(y_true, f, protocol=pickle.HIGHEST_PROTOCOL)\n",
    "\n",
    "    with open(f'{output_location}/{model_name}/y_pred_test.pkl','wb') as f:\n",
    "        pickle.dump(y_pred, f, protocol=pickle.HIGHEST_PROTOCOL)\n",
    "\n",
    "    with open(f'{output_location}/{model_name}/selective_actions_test.pkl','wb') as f:\n",
    "        pickle.dump(selective_actions, f, protocol=pickle.HIGHEST_PROTOCOL)\n",
    "\n",
    "    with open(f'{output_location}/{model_name}/relevance_weights_test.pkl','wb') as f:\n",
    "        pickle.dump(relevance_weights, f, protocol=pickle.HIGHEST_PROTOCOL)\n",
    "\n",
    "    with open(f'{output_location}/{model_name}/predicted_head_test.pkl','wb') as f:\n",
    "        pickle.dump(predicted_head, f, protocol=pickle.HIGHEST_PROTOCOL)\n",
    "\n",
    "    del x_orig\n",
    "    del y_true\n",
    "    del y_pred\n",
    "    del selective_actions\n",
    "    del relevance_weights\n",
    "    del predicted_head\n",
    "    \n",
    "    return os.path.join(output_location, model_name)"
   ]
  },
  {
   "cell_type": "code",
   "execution_count": 11,
   "metadata": {},
   "outputs": [
    {
     "data": {
      "application/vnd.jupyter.widget-view+json": {
       "model_id": "9cd1d880bb094e6c8f120e225a9707b7",
       "version_major": 2,
       "version_minor": 0
      },
      "text/plain": [
       "  0%|          | 0/509 [00:00<?, ?it/s]"
      ]
     },
     "metadata": {},
     "output_type": "display_data"
    },
    {
     "name": "stderr",
     "output_type": "stream",
     "text": [
      "/home/brenton/.conda/envs/EEG-SESM/lib/python3.10/site-packages/torch/nn/modules/conv.py:303: UserWarning: Using padding='same' with even kernel lengths and odd dilation may require a zero-padded copy of the input be created (Triggered internally at  /opt/conda/conda-bld/pytorch_1659484803030/work/aten/src/ATen/native/Convolution.cpp:882.)\n",
      "  return F.conv1d(input, weight, bias, self.stride,\n"
     ]
    },
    {
     "data": {
      "application/vnd.jupyter.widget-view+json": {
       "model_id": "249eace7c1d64c92bbb266e3789fb936",
       "version_major": 2,
       "version_minor": 0
      },
      "text/plain": [
       "  0%|          | 0/509 [00:00<?, ?it/s]"
      ]
     },
     "metadata": {},
     "output_type": "display_data"
    },
    {
     "data": {
      "application/vnd.jupyter.widget-view+json": {
       "model_id": "9bcab84b914e4df59e38ecc74fe61c35",
       "version_major": 2,
       "version_minor": 0
      },
      "text/plain": [
       "  0%|          | 0/509 [00:00<?, ?it/s]"
      ]
     },
     "metadata": {},
     "output_type": "display_data"
    }
   ],
   "source": [
    "prediction_locations = [ test_model(model[0], 'test_outputs', model[1]) for model in [(model_exp1, 'exp1'), (model_exp2, 'exp2'), (model_exp3, 'exp3')] ]"
   ]
  },
  {
   "cell_type": "code",
   "execution_count": 13,
   "metadata": {},
   "outputs": [
    {
     "name": "stdout",
     "output_type": "stream",
     "text": [
      "Results from Experiment 0\n",
      "-------------------------------\n",
      "Accuracy: 0.5619469026548672\n",
      "Precision: 0.7309526978598002\n",
      "Recall: 0.5333455682318796\n"
     ]
    },
    {
     "data": {
      "image/png": "[encoded data removed]",
      "text/plain": [
       "<Figure size 800x600 with 1 Axes>"
      ]
     },
     "metadata": {},
     "output_type": "display_data"
    },
    {
     "name": "stdout",
     "output_type": "stream",
     "text": [
      "Classification Report:\n",
      "              precision    recall  f1-score   support\n",
      "\n",
      "           W       0.99      0.75      0.86       253\n",
      "          N1       0.27      0.85      0.41       278\n",
      "          N2       0.77      0.59      0.67       947\n",
      "          N3       1.00      0.04      0.08       214\n",
      "         REM       0.62      0.43      0.51       342\n",
      "\n",
      "    accuracy                           0.56      2034\n",
      "   macro avg       0.73      0.53      0.51      2034\n",
      "weighted avg       0.73      0.56      0.57      2034\n",
      "\n",
      "\n",
      "\n",
      "Accuracy for W: 75.10%\n",
      "Accuracy for N1: 85.25%\n",
      "Accuracy for N2: 59.13%\n",
      "Accuracy for N3: 4.21%\n",
      "Accuracy for REM: 42.98%\n",
      "\n",
      "\n",
      "\n",
      "Results from Experiment 1\n",
      "-------------------------------\n",
      "Accuracy: 0.7728613569321534\n",
      "Precision: 0.7274687885935504\n",
      "Recall: 0.7870835862335197\n"
     ]
    },
    {
     "data": {
      "image/png": "[encoded data removed]",
      "text/plain": [
       "<Figure size 800x600 with 1 Axes>"
      ]
     },
     "metadata": {},
     "output_type": "display_data"
    },
    {
     "name": "stdout",
     "output_type": "stream",
     "text": [
      "Classification Report:\n",
      "              precision    recall  f1-score   support\n",
      "\n",
      "           W       0.86      0.94      0.90       253\n",
      "          N1       0.49      0.46      0.48       278\n",
      "          N2       0.93      0.76      0.83       947\n",
      "          N3       0.69      0.94      0.80       214\n",
      "         REM       0.66      0.83      0.74       342\n",
      "\n",
      "    accuracy                           0.77      2034\n",
      "   macro avg       0.73      0.79      0.75      2034\n",
      "weighted avg       0.79      0.77      0.77      2034\n",
      "\n",
      "\n",
      "\n",
      "Accuracy for W: 93.68%\n",
      "Accuracy for N1: 46.40%\n",
      "Accuracy for N2: 76.03%\n",
      "Accuracy for N3: 94.39%\n",
      "Accuracy for REM: 83.04%\n",
      "\n",
      "\n",
      "\n",
      "Results from Experiment 2\n",
      "-------------------------------\n",
      "Accuracy: 0.7935103244837758\n",
      "Precision: 0.7788520620025153\n",
      "Recall: 0.7968389301671902\n"
     ]
    },
    {
     "data": {
      "image/png": "[encoded data removed]",
      "text/plain": [
       "<Figure size 800x600 with 1 Axes>"
      ]
     },
     "metadata": {},
     "output_type": "display_data"
    },
    {
     "name": "stdout",
     "output_type": "stream",
     "text": [
      "Classification Report:\n",
      "              precision    recall  f1-score   support\n",
      "\n",
      "           W       0.99      0.85      0.91       253\n",
      "          N1       0.48      0.65      0.55       278\n",
      "          N2       0.91      0.81      0.86       947\n",
      "          N3       0.74      0.96      0.84       214\n",
      "         REM       0.78      0.71      0.74       342\n",
      "\n",
      "    accuracy                           0.79      2034\n",
      "   macro avg       0.78      0.80      0.78      2034\n",
      "weighted avg       0.82      0.79      0.80      2034\n",
      "\n",
      "\n",
      "\n",
      "Accuracy for W: 84.98%\n",
      "Accuracy for N1: 65.11%\n",
      "Accuracy for N2: 81.31%\n",
      "Accuracy for N3: 96.26%\n",
      "Accuracy for REM: 70.76%\n",
      "\n",
      "\n",
      "\n"
     ]
    }
   ],
   "source": [
    "class_names = CLASS_DICT.values()\n",
    "\n",
    "for i, location in enumerate(prediction_locations):\n",
    "\n",
    "    with open(f'{location}/x_orig_test.pkl','rb') as f:\n",
    "        x_orig = pickle.load(f)\n",
    "\n",
    "    with open(f'{location}/y_true_test.pkl','rb') as f:\n",
    "        y_true = pickle.load(f)\n",
    "\n",
    "    with open(f'{location}/y_pred_test.pkl','rb') as f:\n",
    "        y_pred = pickle.load(f)\n",
    "\n",
    "    with open(f'{location}/selective_actions_test.pkl','rb') as f:\n",
    "        selective_actions = pickle.load(f)\n",
    "\n",
    "    with open(f'{location}/relevance_weights_test.pkl','rb') as f:\n",
    "        relevance_weights = pickle.load(f)\n",
    "\n",
    "    with open(f'{location}/predicted_head_test.pkl','rb') as f:\n",
    "        predicted_head = pickle.load(f)\n",
    "\n",
    "    print(f\"Results from Experiment {i}\")\n",
    "    print(f\"-------------------------------\")\n",
    "    accuracy = accuracy_score(y_true, y_pred)\n",
    "    precision = precision_score(y_true, y_pred, average=\"macro\")\n",
    "    recall = recall_score(y_true, y_pred, average=\"macro\")\n",
    "\n",
    "    print(f\"Accuracy: {accuracy}\")\n",
    "    print(f\"Precision: {precision}\")\n",
    "    print(f\"Recall: {recall}\")\n",
    "\n",
    "    # Create a confusion matrix\n",
    "    confusion = confusion_matrix(y_true, y_pred)\n",
    "\n",
    "    # Plot the confusion matrix as a heatmap\n",
    "    plt.figure(figsize=(8, 6))\n",
    "    sns.heatmap(confusion, annot=True, fmt='d', cmap='Blues', cbar=False)\n",
    "    plt.xlabel('Predicted Labels')\n",
    "    plt.gca().set_xticklabels(class_names)\n",
    "    plt.ylabel('True Labels')\n",
    "    plt.gca().set_yticklabels(class_names)\n",
    "    plt.show()\n",
    "\n",
    "    # Generate a classification report\n",
    "    report = classification_report(y_true, y_pred, target_names=class_names)\n",
    "    print(\"Classification Report:\")\n",
    "    print(report)\n",
    "\n",
    "    # Calculate class-wise accuracy\n",
    "    class_accuracy = confusion.diagonal()/confusion.sum(axis=1)\n",
    "\n",
    "    print(\"\\n\")\n",
    "    # Print class-wise accuracy\n",
    "    for i, class_name in enumerate(class_names):\n",
    "        print(f'Accuracy for {class_name}: {class_accuracy[i]*100:.2f}%')\n",
    "\n",
    "    print(\"\\n\\n\")\n",
    "\n",
    "    del x_orig\n",
    "    del y_true\n",
    "    del y_pred\n",
    "    del selective_actions\n",
    "    del relevance_weights\n",
    "    del predicted_head"
   ]
  },
  {
   "cell_type": "code",
   "execution_count": null,
   "metadata": {},
   "outputs": [],
   "source": []
  }
 ],
 "metadata": {
  "kernelspec": {
   "display_name": "EEG-SESM",
   "language": "python",
   "name": "python3"
  },
  "language_info": {
   "codemirror_mode": {
    "name": "ipython",
    "version": 3
   },
   "file_extension": ".py",
   "mimetype": "text/x-python",
   "name": "python",
   "nbconvert_exporter": "python",
   "pygments_lexer": "ipython3",
   "version": "3.10.13"
  }
 },
 "nbformat": 4,
 "nbformat_minor": 2
}
