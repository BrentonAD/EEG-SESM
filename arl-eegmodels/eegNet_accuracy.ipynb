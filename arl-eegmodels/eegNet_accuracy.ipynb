{
 "cells": [
  {
   "cell_type": "markdown",
   "metadata": {},
   "source": [
    "# EEG Net Accuracy"
   ]
  },
  {
   "cell_type": "code",
   "execution_count": 1,
   "metadata": {},
   "outputs": [],
   "source": [
    "import os\n",
    "import pickle\n",
    "\n",
    "import pandas as pd\n",
    "import numpy as np\n",
    "import matplotlib.pyplot as plt\n",
    "import seaborn as sns\n",
    "\n",
    "from sklearn.metrics import confusion_matrix, classification_report, accuracy_score, precision_score, recall_score\n",
    "\n",
    "import tensorflow as tf\n",
    "\n",
    "from utils import get_data"
   ]
  },
  {
   "cell_type": "code",
   "execution_count": 4,
   "metadata": {},
   "outputs": [],
   "source": [
    "CLASS_DICT = {\n",
    "    0: \"W\",\n",
    "    1: \"N1\",\n",
    "    2: \"N2\",\n",
    "    3: \"N3\",\n",
    "    4: \"REM\"\n",
    "}\n",
    "\n",
    "SPLIT = 'split3'"
   ]
  },
  {
   "cell_type": "code",
   "execution_count": 3,
   "metadata": {},
   "outputs": [
    {
     "name": "stderr",
     "output_type": "stream",
     "text": [
      "2024-04-21 12:58:17.562730: I metal_plugin/src/device/metal_device.cc:1154] Metal device set to: Apple M1 Pro\n",
      "2024-04-21 12:58:17.562753: I metal_plugin/src/device/metal_device.cc:296] systemMemory: 32.00 GB\n",
      "2024-04-21 12:58:17.562758: I metal_plugin/src/device/metal_device.cc:313] maxCacheSize: 10.67 GB\n",
      "2024-04-21 12:58:17.562792: I tensorflow/core/common_runtime/pluggable_device/pluggable_device_factory.cc:303] Could not identify NUMA node of platform GPU ID 0, defaulting to 0. Your kernel may not have been built with NUMA support.\n",
      "2024-04-21 12:58:17.562807: I tensorflow/core/common_runtime/pluggable_device/pluggable_device_factory.cc:269] Created TensorFlow device (/job:localhost/replica:0/task:0/device:GPU:0 with 0 MB memory) -> physical PluggableDevice (device: 0, name: METAL, pci bus id: <undefined>)\n"
     ]
    },
    {
     "name": "stdout",
     "output_type": "stream",
     "text": [
      "Load training set:\n",
      "Loading ../SESM/datasets/eeg/sleep_edf/prepared/fpz_cz/SC4001E0.npz ...\n",
      "Loading ../SESM/datasets/eeg/sleep_edf/prepared/fpz_cz/SC4002E0.npz ...\n",
      "Loading ../SESM/datasets/eeg/sleep_edf/prepared/fpz_cz/SC4011E0.npz ...\n",
      "Loading ../SESM/datasets/eeg/sleep_edf/prepared/fpz_cz/SC4012E0.npz ...\n",
      "Loading ../SESM/datasets/eeg/sleep_edf/prepared/fpz_cz/SC4021E0.npz ...\n",
      "Loading ../SESM/datasets/eeg/sleep_edf/prepared/fpz_cz/SC4022E0.npz ...\n",
      "Loading ../SESM/datasets/eeg/sleep_edf/prepared/fpz_cz/SC4041E0.npz ...\n",
      "Loading ../SESM/datasets/eeg/sleep_edf/prepared/fpz_cz/SC4042E0.npz ...\n",
      "Loading ../SESM/datasets/eeg/sleep_edf/prepared/fpz_cz/SC4051E0.npz ...\n",
      "Loading ../SESM/datasets/eeg/sleep_edf/prepared/fpz_cz/SC4052E0.npz ...\n",
      "Loading ../SESM/datasets/eeg/sleep_edf/prepared/fpz_cz/SC4061E0.npz ...\n",
      "Loading ../SESM/datasets/eeg/sleep_edf/prepared/fpz_cz/SC4062E0.npz ...\n",
      "Loading ../SESM/datasets/eeg/sleep_edf/prepared/fpz_cz/SC4081E0.npz ...\n",
      "Loading ../SESM/datasets/eeg/sleep_edf/prepared/fpz_cz/SC4082E0.npz ...\n",
      "Loading ../SESM/datasets/eeg/sleep_edf/prepared/fpz_cz/SC4091E0.npz ...\n",
      "Loading ../SESM/datasets/eeg/sleep_edf/prepared/fpz_cz/SC4092E0.npz ...\n",
      "Loading ../SESM/datasets/eeg/sleep_edf/prepared/fpz_cz/SC4101E0.npz ...\n",
      "Loading ../SESM/datasets/eeg/sleep_edf/prepared/fpz_cz/SC4102E0.npz ...\n",
      "Loading ../SESM/datasets/eeg/sleep_edf/prepared/fpz_cz/SC4121E0.npz ...\n",
      "Loading ../SESM/datasets/eeg/sleep_edf/prepared/fpz_cz/SC4122E0.npz ...\n",
      "Loading ../SESM/datasets/eeg/sleep_edf/prepared/fpz_cz/SC4131E0.npz ...\n",
      "Loading ../SESM/datasets/eeg/sleep_edf/prepared/fpz_cz/SC4141E0.npz ...\n",
      "Loading ../SESM/datasets/eeg/sleep_edf/prepared/fpz_cz/SC4142E0.npz ...\n",
      "Loading ../SESM/datasets/eeg/sleep_edf/prepared/fpz_cz/SC4161E0.npz ...\n",
      "Loading ../SESM/datasets/eeg/sleep_edf/prepared/fpz_cz/SC4162E0.npz ...\n",
      "Loading ../SESM/datasets/eeg/sleep_edf/prepared/fpz_cz/SC4181E0.npz ...\n",
      "Loading ../SESM/datasets/eeg/sleep_edf/prepared/fpz_cz/SC4182E0.npz ...\n",
      "Loading ../SESM/datasets/eeg/sleep_edf/prepared/fpz_cz/SC4191E0.npz ...\n",
      "Loading ../SESM/datasets/eeg/sleep_edf/prepared/fpz_cz/SC4192E0.npz ...\n",
      " \n",
      "Load validation set:\n",
      "Loading ../SESM/datasets/eeg/sleep_edf/prepared/fpz_cz/SC4071E0.npz ...\n",
      "Loading ../SESM/datasets/eeg/sleep_edf/prepared/fpz_cz/SC4072E0.npz ...\n",
      "Loading ../SESM/datasets/eeg/sleep_edf/prepared/fpz_cz/SC4151E0.npz ...\n",
      "Loading ../SESM/datasets/eeg/sleep_edf/prepared/fpz_cz/SC4152E0.npz ...\n",
      " \n",
      "Load test set:\n",
      "Loading ../SESM/datasets/eeg/sleep_edf/prepared/fpz_cz/SC4031E0.npz ...\n",
      "Loading ../SESM/datasets/eeg/sleep_edf/prepared/fpz_cz/SC4032E0.npz ...\n",
      "Loading ../SESM/datasets/eeg/sleep_edf/prepared/fpz_cz/SC4111E0.npz ...\n",
      "Loading ../SESM/datasets/eeg/sleep_edf/prepared/fpz_cz/SC4112E0.npz ...\n",
      "Loading ../SESM/datasets/eeg/sleep_edf/prepared/fpz_cz/SC4171E0.npz ...\n",
      "Loading ../SESM/datasets/eeg/sleep_edf/prepared/fpz_cz/SC4172E0.npz ...\n",
      " \n",
      "Training set: (30977, 3000, 1), (30977,)\n",
      "W: 5382\n",
      "N1: 2341\n",
      "N2: 13414\n",
      "N3: 4133\n",
      "REM: 5707\n",
      " \n",
      "Validation set: (4963, 3000, 1), (4963,)\n",
      "W: 1510\n",
      "N1: 261\n",
      "N2: 1587\n",
      "N3: 739\n",
      "REM: 866\n",
      " \n",
      "Test set: (6368, 3000, 1), (6368,)\n",
      "W: 1393\n",
      "N1: 202\n",
      "N2: 2798\n",
      "N3: 831\n",
      "REM: 1144\n",
      " \n",
      "Oversampled training set: (67070, 3000, 1), (67070,)\n",
      "W: 13414\n",
      "N1: 13414\n",
      "N2: 13414\n",
      "N3: 13414\n",
      "REM: 13414\n",
      " \n"
     ]
    }
   ],
   "source": [
    "model = tf.keras.saving.load_model(f'models/eegNet/{SPLIT}/trained_model.h5')\n",
    "\n",
    "train_ds, val_ds, test_ds, class_weights, max_len = get_data(batch_size=64)"
   ]
  },
  {
   "cell_type": "code",
   "execution_count": 4,
   "metadata": {},
   "outputs": [
    {
     "name": "stdout",
     "output_type": "stream",
     "text": [
      "  7/199 [>.............................] - ETA: 3s"
     ]
    },
    {
     "name": "stderr",
     "output_type": "stream",
     "text": [
      "2024-04-21 12:58:20.114737: I tensorflow/core/grappler/optimizers/custom_graph_optimizer_registry.cc:114] Plugin optimizer for device_type GPU is enabled.\n"
     ]
    },
    {
     "name": "stdout",
     "output_type": "stream",
     "text": [
      "199/199 [==============================] - 4s 19ms/step\n"
     ]
    }
   ],
   "source": [
    "# Extract data and labels from the dataset\n",
    "test_data = []\n",
    "test_labels = []\n",
    "for x, y in test_ds:\n",
    "    test_data.append(x)\n",
    "    test_labels.append(y)\n",
    "\n",
    "# Concatenate the dataset batches into NumPy arrays\n",
    "test_data = np.concatenate(test_data)\n",
    "test_labels = np.concatenate(test_labels)\n",
    "\n",
    "# Make predictions on the test data\n",
    "predictions = model.predict(test_data)\n",
    "\n",
    "# Convert predictions to class labels\n",
    "predicted_labels = np.argmax(predictions, axis=1)\n",
    "\n",
    "os.makedirs('test_outputs', exist_ok=True)\n",
    "os.makedirs(f'test_outputs/{SPLIT}', exist_ok=True)\n",
    "\n",
    "with open(f'test_outputs/{SPLIT}/y_true_test.pkl','wb') as f:\n",
    "    pickle.dump(test_labels, f, protocol=pickle.HIGHEST_PROTOCOL)\n",
    "\n",
    "with open(f'test_outputs/{SPLIT}/y_pred_test.pkl','wb') as f:\n",
    "    pickle.dump(predicted_labels, f, protocol=pickle.HIGHEST_PROTOCOL)\n"
   ]
  },
  {
   "cell_type": "code",
   "execution_count": null,
   "metadata": {},
   "outputs": [],
   "source": [
    "# Evaluate the model on the test dataset\n",
    "test_loss, test_accuracy = model.evaluate(test_data, test_labels, verbose=0)\n",
    "\n",
    "print(f'Test Loss: {test_loss:.4f}')\n",
    "print(f'Test Accuracy: {test_accuracy*100:.2f}%')\n",
    "\n",
    "# Make predictions on the test data\n",
    "predictions = model.predict(test_data)\n",
    "\n",
    "# Convert predictions to class labels\n",
    "predicted_labels = np.argmax(predictions, axis=1)\n",
    "\n",
    "precision = precision_score(test_labels, predicted_labels, average='macro')\n",
    "recall = recall_score(test_labels, predicted_labels, average='macro')\n",
    "print(f'Test Precision: {precision*100:.2f}%')\n",
    "print(f'Test Recall: {recall*100:.2f}%')\n",
    "\n",
    "# Create a confusion matrix\n",
    "confusion = confusion_matrix(test_labels, predicted_labels)\n",
    "\n",
    "class_names = CLASS_DICT.values()\n",
    "\n",
    "# Plot the confusion matrix as a heatmap\n",
    "plt.figure(figsize=(8, 6))\n",
    "sns.heatmap(confusion, annot=True, fmt='d', cmap='Greens', cbar=False)\n",
    "plt.xlabel('Predicted Labels')\n",
    "plt.gca().set_xticklabels(class_names)\n",
    "plt.ylabel('True Labels')\n",
    "plt.gca().set_yticklabels(class_names)\n",
    "plt.show()\n",
    "\n",
    "# Generate a classification report\n",
    "report = classification_report(test_labels, predicted_labels, target_names=class_names)\n",
    "print(report)\n",
    "\n",
    "# Calculate class-wise accuracy\n",
    "class_accuracy = confusion.diagonal()/confusion.sum(axis=1)\n",
    "\n",
    "print(\"\\n\")\n",
    "# Print class-wise accuracy\n",
    "for i, class_name in enumerate(class_names):\n",
    "    print(f'Accuracy for {class_name}: {class_accuracy[i]*100:.2f}%')\n",
    "\n",
    "plt.show()"
   ]
  },
  {
   "cell_type": "markdown",
   "metadata": {},
   "source": [
    "# Calculate main results"
   ]
  },
  {
   "cell_type": "code",
   "execution_count": 8,
   "metadata": {},
   "outputs": [
    {
     "data": {
      "text/plain": [
       "array([0.622, 0.58 ])"
      ]
     },
     "execution_count": 8,
     "metadata": {},
     "output_type": "execute_result"
    }
   ],
   "source": [
    "confusion.diagonal()/confusion.sum(axis=1)"
   ]
  },
  {
   "cell_type": "code",
   "execution_count": 20,
   "metadata": {},
   "outputs": [
    {
     "name": "stdout",
     "output_type": "stream",
     "text": [
      "split0\n",
      "split1\n",
      "split2\n",
      "split3\n"
     ]
    }
   ],
   "source": [
    "class_names = CLASS_DICT.values()\n",
    "\n",
    "# Load the experiments\n",
    "splits = ['split0','split1','split2','split3']\n",
    "split_results = []\n",
    "classwise_accuracies = []\n",
    "\n",
    "for split in splits:\n",
    "    print(split)\n",
    "\n",
    "    with open(f'test_outputs/{split}/y_true_test.pkl','rb') as f:\n",
    "        y_true = pickle.load(f)\n",
    "    \n",
    "    with open(f'test_outputs/{split}/y_pred_test.pkl','rb') as f:\n",
    "        y_pred = pickle.load(f)\n",
    "\n",
    "    accuracy = accuracy_score(y_true, y_pred)\n",
    "    precision = precision_score(y_true, y_pred, average=\"macro\")\n",
    "    recall = recall_score(y_true, y_pred, average=\"macro\")\n",
    "\n",
    "    row = {\n",
    "        \"experiment\": split,\n",
    "        \"accuracy\": accuracy,\n",
    "        \"precision\": precision,\n",
    "        \"recall\": recall\n",
    "    }\n",
    "    split_results.append(row)\n",
    "\n",
    "    # Create a confusion matrix\n",
    "    confusion = confusion_matrix(y_true, y_pred)\n",
    "    class_accuracy = confusion.diagonal()/confusion.sum(axis=1)\n",
    "\n",
    "    classwise_row = { class_name: class_accuracy[i] for i, class_name in enumerate(class_names) }\n",
    "    classwise_row[\"experiment\"] = split\n",
    "    classwise_accuracies.append(classwise_row)"
   ]
  },
  {
   "cell_type": "code",
   "execution_count": 21,
   "metadata": {},
   "outputs": [
    {
     "data": {
      "text/html": [
       "<div>\n",
       "<style scoped>\n",
       "    .dataframe tbody tr th:only-of-type {\n",
       "        vertical-align: middle;\n",
       "    }\n",
       "\n",
       "    .dataframe tbody tr th {\n",
       "        vertical-align: top;\n",
       "    }\n",
       "\n",
       "    .dataframe thead th {\n",
       "        text-align: right;\n",
       "    }\n",
       "</style>\n",
       "<table border=\"1\" class=\"dataframe\">\n",
       "  <thead>\n",
       "    <tr style=\"text-align: right;\">\n",
       "      <th></th>\n",
       "      <th>experiment</th>\n",
       "      <th>accuracy</th>\n",
       "      <th>precision</th>\n",
       "      <th>recall</th>\n",
       "    </tr>\n",
       "  </thead>\n",
       "  <tbody>\n",
       "    <tr>\n",
       "      <th>0</th>\n",
       "      <td>split0</td>\n",
       "      <td>0.724176</td>\n",
       "      <td>0.702430</td>\n",
       "      <td>0.709446</td>\n",
       "    </tr>\n",
       "    <tr>\n",
       "      <th>1</th>\n",
       "      <td>split1</td>\n",
       "      <td>0.710102</td>\n",
       "      <td>0.658614</td>\n",
       "      <td>0.747781</td>\n",
       "    </tr>\n",
       "    <tr>\n",
       "      <th>2</th>\n",
       "      <td>split2</td>\n",
       "      <td>0.712681</td>\n",
       "      <td>0.695824</td>\n",
       "      <td>0.724347</td>\n",
       "    </tr>\n",
       "    <tr>\n",
       "      <th>3</th>\n",
       "      <td>split3</td>\n",
       "      <td>0.681062</td>\n",
       "      <td>0.617089</td>\n",
       "      <td>0.693151</td>\n",
       "    </tr>\n",
       "  </tbody>\n",
       "</table>\n",
       "</div>"
      ],
      "text/plain": [
       "  experiment  accuracy  precision    recall\n",
       "0     split0  0.724176   0.702430  0.709446\n",
       "1     split1  0.710102   0.658614  0.747781\n",
       "2     split2  0.712681   0.695824  0.724347\n",
       "3     split3  0.681062   0.617089  0.693151"
      ]
     },
     "metadata": {},
     "output_type": "display_data"
    },
    {
     "data": {
      "text/html": [
       "<div>\n",
       "<style scoped>\n",
       "    .dataframe tbody tr th:only-of-type {\n",
       "        vertical-align: middle;\n",
       "    }\n",
       "\n",
       "    .dataframe tbody tr th {\n",
       "        vertical-align: top;\n",
       "    }\n",
       "\n",
       "    .dataframe thead th {\n",
       "        text-align: right;\n",
       "    }\n",
       "</style>\n",
       "<table border=\"1\" class=\"dataframe\">\n",
       "  <thead>\n",
       "    <tr style=\"text-align: right;\">\n",
       "      <th></th>\n",
       "      <th>W</th>\n",
       "      <th>N1</th>\n",
       "      <th>N2</th>\n",
       "      <th>N3</th>\n",
       "      <th>REM</th>\n",
       "      <th>experiment</th>\n",
       "    </tr>\n",
       "  </thead>\n",
       "  <tbody>\n",
       "    <tr>\n",
       "      <th>0</th>\n",
       "      <td>0.681600</td>\n",
       "      <td>0.524194</td>\n",
       "      <td>0.783307</td>\n",
       "      <td>0.982166</td>\n",
       "      <td>0.575966</td>\n",
       "      <td>split0</td>\n",
       "    </tr>\n",
       "    <tr>\n",
       "      <th>1</th>\n",
       "      <td>0.802535</td>\n",
       "      <td>0.613232</td>\n",
       "      <td>0.612448</td>\n",
       "      <td>0.998569</td>\n",
       "      <td>0.712121</td>\n",
       "      <td>split1</td>\n",
       "    </tr>\n",
       "    <tr>\n",
       "      <th>2</th>\n",
       "      <td>0.527197</td>\n",
       "      <td>0.571709</td>\n",
       "      <td>0.737854</td>\n",
       "      <td>0.989293</td>\n",
       "      <td>0.795680</td>\n",
       "      <td>split2</td>\n",
       "    </tr>\n",
       "    <tr>\n",
       "      <th>3</th>\n",
       "      <td>0.726490</td>\n",
       "      <td>0.430693</td>\n",
       "      <td>0.540386</td>\n",
       "      <td>0.948255</td>\n",
       "      <td>0.819930</td>\n",
       "      <td>split3</td>\n",
       "    </tr>\n",
       "  </tbody>\n",
       "</table>\n",
       "</div>"
      ],
      "text/plain": [
       "          W        N1        N2        N3       REM experiment\n",
       "0  0.681600  0.524194  0.783307  0.982166  0.575966     split0\n",
       "1  0.802535  0.613232  0.612448  0.998569  0.712121     split1\n",
       "2  0.527197  0.571709  0.737854  0.989293  0.795680     split2\n",
       "3  0.726490  0.430693  0.540386  0.948255  0.819930     split3"
      ]
     },
     "metadata": {},
     "output_type": "display_data"
    }
   ],
   "source": [
    "results_df = pd.DataFrame(split_results)\n",
    "classwise_results = pd.DataFrame(classwise_accuracies)\n",
    "\n",
    "display(results_df)\n",
    "display(classwise_results)"
   ]
  },
  {
   "cell_type": "code",
   "execution_count": 22,
   "metadata": {},
   "outputs": [
    {
     "data": {
      "text/html": [
       "<div>\n",
       "<style scoped>\n",
       "    .dataframe tbody tr th:only-of-type {\n",
       "        vertical-align: middle;\n",
       "    }\n",
       "\n",
       "    .dataframe tbody tr th {\n",
       "        vertical-align: top;\n",
       "    }\n",
       "\n",
       "    .dataframe thead th {\n",
       "        text-align: right;\n",
       "    }\n",
       "</style>\n",
       "<table border=\"1\" class=\"dataframe\">\n",
       "  <thead>\n",
       "    <tr style=\"text-align: right;\">\n",
       "      <th></th>\n",
       "      <th>mean</th>\n",
       "      <th>std</th>\n",
       "    </tr>\n",
       "  </thead>\n",
       "  <tbody>\n",
       "    <tr>\n",
       "      <th>accuracy</th>\n",
       "      <td>0.715653</td>\n",
       "      <td>0.007493</td>\n",
       "    </tr>\n",
       "    <tr>\n",
       "      <th>precision</th>\n",
       "      <td>0.685623</td>\n",
       "      <td>0.023622</td>\n",
       "    </tr>\n",
       "    <tr>\n",
       "      <th>recall</th>\n",
       "      <td>0.727191</td>\n",
       "      <td>0.019325</td>\n",
       "    </tr>\n",
       "  </tbody>\n",
       "</table>\n",
       "</div>"
      ],
      "text/plain": [
       "               mean       std\n",
       "accuracy   0.715653  0.007493\n",
       "precision  0.685623  0.023622\n",
       "recall     0.727191  0.019325"
      ]
     },
     "metadata": {},
     "output_type": "display_data"
    }
   ],
   "source": [
    "# Calculate mean and standard deviation\n",
    "agg_mean = results_df.loc[[0,1,2],[\"accuracy\",\"precision\", \"recall\"]].mean()\n",
    "agg_std = results_df.loc[[0,1,2],[\"accuracy\",\"precision\", \"recall\"]].std()\n",
    "\n",
    "# Create a new dataframe for aggregation\n",
    "agg_df = pd.DataFrame({'mean': agg_mean, 'std': agg_std})\n",
    "display(agg_df)"
   ]
  },
  {
   "cell_type": "code",
   "execution_count": 23,
   "metadata": {},
   "outputs": [
    {
     "data": {
      "text/html": [
       "<div>\n",
       "<style scoped>\n",
       "    .dataframe tbody tr th:only-of-type {\n",
       "        vertical-align: middle;\n",
       "    }\n",
       "\n",
       "    .dataframe tbody tr th {\n",
       "        vertical-align: top;\n",
       "    }\n",
       "\n",
       "    .dataframe thead th {\n",
       "        text-align: right;\n",
       "    }\n",
       "</style>\n",
       "<table border=\"1\" class=\"dataframe\">\n",
       "  <thead>\n",
       "    <tr style=\"text-align: right;\">\n",
       "      <th></th>\n",
       "      <th>mean</th>\n",
       "      <th>std</th>\n",
       "    </tr>\n",
       "  </thead>\n",
       "  <tbody>\n",
       "    <tr>\n",
       "      <th>W</th>\n",
       "      <td>0.670444</td>\n",
       "      <td>0.138008</td>\n",
       "    </tr>\n",
       "    <tr>\n",
       "      <th>N1</th>\n",
       "      <td>0.569711</td>\n",
       "      <td>0.044553</td>\n",
       "    </tr>\n",
       "    <tr>\n",
       "      <th>N2</th>\n",
       "      <td>0.711203</td>\n",
       "      <td>0.088492</td>\n",
       "    </tr>\n",
       "    <tr>\n",
       "      <th>N3</th>\n",
       "      <td>0.990009</td>\n",
       "      <td>0.008225</td>\n",
       "    </tr>\n",
       "    <tr>\n",
       "      <th>REM</th>\n",
       "      <td>0.694589</td>\n",
       "      <td>0.110901</td>\n",
       "    </tr>\n",
       "  </tbody>\n",
       "</table>\n",
       "</div>"
      ],
      "text/plain": [
       "         mean       std\n",
       "W    0.670444  0.138008\n",
       "N1   0.569711  0.044553\n",
       "N2   0.711203  0.088492\n",
       "N3   0.990009  0.008225\n",
       "REM  0.694589  0.110901"
      ]
     },
     "metadata": {},
     "output_type": "display_data"
    }
   ],
   "source": [
    "# Calculate mean and standard deviation\n",
    "classwise_agg_mean = classwise_results.loc[[0,1,2],list(class_names)].mean()\n",
    "classwise_agg_std = classwise_results.loc[[0,1,2],list(class_names)].std()\n",
    "\n",
    "# Create a new dataframe for classwise_aggregation\n",
    "classwise_agg_df = pd.DataFrame({'mean': classwise_agg_mean, 'std': classwise_agg_std})\n",
    "display(classwise_agg_df)"
   ]
  },
  {
   "cell_type": "code",
   "execution_count": 24,
   "metadata": {},
   "outputs": [],
   "source": [
    "y_trues = []\n",
    "y_preds = []\n",
    "\n",
    "for split in [\"split0\",\"split1\",\"split2\"]:\n",
    "\n",
    "    with open(f'test_outputs/{split}/y_true_test.pkl','rb') as f:\n",
    "        y_true = pickle.load(f)\n",
    "    \n",
    "    with open(f'test_outputs/{split}/y_pred_test.pkl','rb') as f:\n",
    "        y_pred = pickle.load(f)\n",
    "    \n",
    "    y_trues.append(y_true)\n",
    "    y_preds.append(y_pred)\n",
    "\n",
    "y_true = np.concatenate(y_trues)\n",
    "y_pred = np.concatenate(y_preds)"
   ]
  },
  {
   "cell_type": "code",
   "execution_count": 25,
   "metadata": {},
   "outputs": [
    {
     "data": {
      "image/png": "[encoded data removed]",
      "text/plain": [
       "<Figure size 1200x1000 with 1 Axes>"
      ]
     },
     "metadata": {},
     "output_type": "display_data"
    }
   ],
   "source": [
    "C = confusion_matrix(y_true, y_pred)\n",
    "C = C / C.astype(float).sum(axis=0)\n",
    "\n",
    "fig, ax = plt.subplots(figsize=(12, 10))\n",
    "\n",
    "sns.heatmap(\n",
    "    C,\n",
    "    annot=True,\n",
    "    annot_kws={\"fontsize\":28},\n",
    "    cmap='Greens',\n",
    "    cbar=False\n",
    ")\n",
    "ax.set_xticklabels(CLASS_DICT.values(), fontsize=28)\n",
    "ax.set_yticklabels(CLASS_DICT.values(), fontsize=28)\n",
    "ax.set_xlabel(\"Actual\", fontsize=28)\n",
    "ax.set_ylabel(\"Predicted\", fontsize=28)\n",
    "plt.show()"
   ]
  },
  {
   "cell_type": "code",
   "execution_count": null,
   "metadata": {},
   "outputs": [],
   "source": []
  }
 ],
 "metadata": {
  "kernelspec": {
   "display_name": "EEG-SESM",
   "language": "python",
   "name": "python3"
  },
  "language_info": {
   "codemirror_mode": {
    "name": "ipython",
    "version": 3
   },
   "file_extension": ".py",
   "mimetype": "text/x-python",
   "name": "python",
   "nbconvert_exporter": "python",
   "pygments_lexer": "ipython3",
   "version": "3.8.19"
  }
 },
 "nbformat": 4,
 "nbformat_minor": 2
}
