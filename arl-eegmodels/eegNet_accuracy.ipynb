{
 "cells": [
  {
   "cell_type": "markdown",
   "metadata": {},
   "source": [
    "# EEG Net Accuracy"
   ]
  },
  {
   "cell_type": "code",
   "execution_count": 4,
   "metadata": {},
   "outputs": [],
   "source": [
    "import numpy as np\n",
    "import matplotlib.pyplot as plt\n",
    "import seaborn as sns\n",
    "\n",
    "from sklearn.metrics import confusion_matrix, classification_report\n",
    "\n",
    "import tensorflow as tf\n",
    "\n",
    "from EEGModels import EEGNet\n",
    "from utils import get_data"
   ]
  },
  {
   "cell_type": "code",
   "execution_count": 5,
   "metadata": {},
   "outputs": [],
   "source": [
    "CLASS_DICT = {\n",
    "    0: \"W\",\n",
    "    1: \"N1\",\n",
    "    2: \"N2\",\n",
    "    3: \"N3\",\n",
    "    4: \"REM\"\n",
    "}"
   ]
  },
  {
   "cell_type": "code",
   "execution_count": 8,
   "metadata": {},
   "outputs": [
    {
     "name": "stdout",
     "output_type": "stream",
     "text": [
      "Load training set:\n",
      "Loading ../SESM/datasets/eeg/sleep_edf/prepared/fpz_cz/SC4031E0.npz ...\n",
      "Loading ../SESM/datasets/eeg/sleep_edf/prepared/fpz_cz/SC4032E0.npz ...\n",
      "Loading ../SESM/datasets/eeg/sleep_edf/prepared/fpz_cz/SC4041E0.npz ...\n",
      "Loading ../SESM/datasets/eeg/sleep_edf/prepared/fpz_cz/SC4042E0.npz ...\n",
      "Loading ../SESM/datasets/eeg/sleep_edf/prepared/fpz_cz/SC4051E0.npz ...\n",
      "Loading ../SESM/datasets/eeg/sleep_edf/prepared/fpz_cz/SC4052E0.npz ...\n",
      "Loading ../SESM/datasets/eeg/sleep_edf/prepared/fpz_cz/SC4061E0.npz ...\n",
      "Loading ../SESM/datasets/eeg/sleep_edf/prepared/fpz_cz/SC4062E0.npz ...\n",
      "Loading ../SESM/datasets/eeg/sleep_edf/prepared/fpz_cz/SC4071E0.npz ...\n",
      "Loading ../SESM/datasets/eeg/sleep_edf/prepared/fpz_cz/SC4072E0.npz ...\n",
      "Loading ../SESM/datasets/eeg/sleep_edf/prepared/fpz_cz/SC4081E0.npz ...\n",
      "Loading ../SESM/datasets/eeg/sleep_edf/prepared/fpz_cz/SC4082E0.npz ...\n",
      "Loading ../SESM/datasets/eeg/sleep_edf/prepared/fpz_cz/SC4091E0.npz ...\n",
      "Loading ../SESM/datasets/eeg/sleep_edf/prepared/fpz_cz/SC4092E0.npz ...\n",
      "Loading ../SESM/datasets/eeg/sleep_edf/prepared/fpz_cz/SC4101E0.npz ...\n",
      "Loading ../SESM/datasets/eeg/sleep_edf/prepared/fpz_cz/SC4102E0.npz ...\n",
      "Loading ../SESM/datasets/eeg/sleep_edf/prepared/fpz_cz/SC4111E0.npz ...\n",
      "Loading ../SESM/datasets/eeg/sleep_edf/prepared/fpz_cz/SC4112E0.npz ...\n",
      "Loading ../SESM/datasets/eeg/sleep_edf/prepared/fpz_cz/SC4121E0.npz ...\n",
      "Loading ../SESM/datasets/eeg/sleep_edf/prepared/fpz_cz/SC4122E0.npz ...\n",
      "Loading ../SESM/datasets/eeg/sleep_edf/prepared/fpz_cz/SC4131E0.npz ...\n",
      "Loading ../SESM/datasets/eeg/sleep_edf/prepared/fpz_cz/SC4141E0.npz ...\n",
      "Loading ../SESM/datasets/eeg/sleep_edf/prepared/fpz_cz/SC4142E0.npz ...\n",
      "Loading ../SESM/datasets/eeg/sleep_edf/prepared/fpz_cz/SC4151E0.npz ...\n",
      "Loading ../SESM/datasets/eeg/sleep_edf/prepared/fpz_cz/SC4152E0.npz ...\n",
      "Loading ../SESM/datasets/eeg/sleep_edf/prepared/fpz_cz/SC4161E0.npz ...\n",
      "Loading ../SESM/datasets/eeg/sleep_edf/prepared/fpz_cz/SC4162E0.npz ...\n",
      "Loading ../SESM/datasets/eeg/sleep_edf/prepared/fpz_cz/SC4171E0.npz ...\n",
      "Loading ../SESM/datasets/eeg/sleep_edf/prepared/fpz_cz/SC4172E0.npz ...\n",
      "Loading ../SESM/datasets/eeg/sleep_edf/prepared/fpz_cz/SC4181E0.npz ...\n",
      "Loading ../SESM/datasets/eeg/sleep_edf/prepared/fpz_cz/SC4182E0.npz ...\n",
      "Loading ../SESM/datasets/eeg/sleep_edf/prepared/fpz_cz/SC4191E0.npz ...\n",
      "Loading ../SESM/datasets/eeg/sleep_edf/prepared/fpz_cz/SC4192E0.npz ...\n",
      " \n",
      "Load validation set:\n",
      "Loading ../SESM/datasets/eeg/sleep_edf/prepared/fpz_cz/SC4001E0.npz ...\n",
      "Loading ../SESM/datasets/eeg/sleep_edf/prepared/fpz_cz/SC4002E0.npz ...\n",
      "Loading ../SESM/datasets/eeg/sleep_edf/prepared/fpz_cz/SC4011E0.npz ...\n",
      "Loading ../SESM/datasets/eeg/sleep_edf/prepared/fpz_cz/SC4012E0.npz ...\n",
      " \n",
      "Load test set:\n",
      "Loading ../SESM/datasets/eeg/sleep_edf/prepared/fpz_cz/SC4021E0.npz ...\n",
      "Loading ../SESM/datasets/eeg/sleep_edf/prepared/fpz_cz/SC4022E0.npz ...\n",
      " \n",
      "Training set: (36017, 3000, 1), (36017,)\n",
      "W: 7342\n",
      "N1: 2208\n",
      "N2: 15007\n",
      "N3: 4771\n",
      "REM: 6689\n",
      " \n",
      "Validation set: (4257, 3000, 1), (4257,)\n",
      "W: 690\n",
      "N1: 318\n",
      "N2: 1845\n",
      "N3: 718\n",
      "REM: 686\n",
      " \n",
      "Test set: (2034, 3000, 1), (2034,)\n",
      "W: 253\n",
      "N1: 278\n",
      "N2: 947\n",
      "N3: 214\n",
      "REM: 342\n",
      " \n",
      "Oversampled training set: (75035, 3000, 1), (75035,)\n",
      "W: 15007\n",
      "N1: 15007\n",
      "N2: 15007\n",
      "N3: 15007\n",
      "REM: 15007\n",
      " \n"
     ]
    }
   ],
   "source": [
    "model = tf.keras.saving.load_model('models/eegNet/initial/trained_model.h5')\n",
    "\n",
    "train_ds, val_ds, test_ds, class_weights, max_len = get_data(batch_size=64)"
   ]
  },
  {
   "cell_type": "code",
   "execution_count": 9,
   "metadata": {},
   "outputs": [
    {
     "name": "stdout",
     "output_type": "stream",
     "text": [
      "Test Loss: 0.7714\n",
      "Test Accuracy: 67.80%\n",
      "64/64 [==============================] - 1s 21ms/step\n"
     ]
    },
    {
     "data": {
      "image/png": "[encoded data removed]",
      "text/plain": [
       "<Figure size 800x600 with 1 Axes>"
      ]
     },
     "metadata": {},
     "output_type": "display_data"
    },
    {
     "name": "stdout",
     "output_type": "stream",
     "text": [
      "              precision    recall  f1-score   support\n",
      "\n",
      "           W       1.00      0.46      0.63       253\n",
      "          N1       0.41      0.61      0.49       278\n",
      "          N2       0.95      0.66      0.78       947\n",
      "          N3       0.79      0.94      0.86       214\n",
      "         REM       0.45      0.78      0.57       342\n",
      "\n",
      "    accuracy                           0.68      2034\n",
      "   macro avg       0.72      0.69      0.67      2034\n",
      "weighted avg       0.78      0.68      0.69      2034\n",
      "\n",
      "\n",
      "\n",
      "Accuracy for W: 45.85%\n",
      "Accuracy for N1: 60.79%\n",
      "Accuracy for N2: 66.10%\n",
      "Accuracy for N3: 93.93%\n",
      "Accuracy for REM: 78.07%\n"
     ]
    }
   ],
   "source": [
    "# Extract data and labels from the dataset\n",
    "test_data = []\n",
    "test_labels = []\n",
    "for x, y in test_ds:\n",
    "    test_data.append(x)\n",
    "    test_labels.append(y)\n",
    "\n",
    "# Concatenate the dataset batches into NumPy arrays\n",
    "test_data = np.concatenate(test_data)\n",
    "test_labels = np.concatenate(test_labels)\n",
    "\n",
    "# Evaluate the model on the test dataset\n",
    "test_loss, test_accuracy = model.evaluate(test_data, test_labels, verbose=0)\n",
    "print(f'Test Loss: {test_loss:.4f}')\n",
    "print(f'Test Accuracy: {test_accuracy*100:.2f}%')\n",
    "\n",
    "# Make predictions on the test data\n",
    "predictions = model.predict(test_data)\n",
    "\n",
    "# Convert predictions to class labels\n",
    "predicted_labels = np.argmax(predictions, axis=1)\n",
    "\n",
    "# Create a confusion matrix\n",
    "confusion = confusion_matrix(test_labels, predicted_labels)\n",
    "\n",
    "class_names = CLASS_DICT.values()\n",
    "\n",
    "# Plot the confusion matrix as a heatmap\n",
    "plt.figure(figsize=(8, 6))\n",
    "sns.heatmap(confusion, annot=True, fmt='d', cmap='Greens', cbar=False)\n",
    "plt.xlabel('Predicted Labels')\n",
    "plt.gca().set_xticklabels(class_names)\n",
    "plt.ylabel('True Labels')\n",
    "plt.gca().set_yticklabels(class_names)\n",
    "plt.show()\n",
    "\n",
    "# Generate a classification report\n",
    "report = classification_report(test_labels, predicted_labels, target_names=class_names)\n",
    "print(report)\n",
    "\n",
    "# Calculate class-wise accuracy\n",
    "class_accuracy = confusion.diagonal()/confusion.sum(axis=1)\n",
    "\n",
    "print(\"\\n\")\n",
    "# Print class-wise accuracy\n",
    "for i, class_name in enumerate(class_names):\n",
    "    print(f'Accuracy for {class_name}: {class_accuracy[i]*100:.2f}%')\n",
    "\n",
    "plt.show()"
   ]
  },
  {
   "cell_type": "code",
   "execution_count": null,
   "metadata": {},
   "outputs": [],
   "source": []
  }
 ],
 "metadata": {
  "kernelspec": {
   "display_name": "EEG-SESM",
   "language": "python",
   "name": "python3"
  },
  "language_info": {
   "codemirror_mode": {
    "name": "ipython",
    "version": 3
   },
   "file_extension": ".py",
   "mimetype": "text/x-python",
   "name": "python",
   "nbconvert_exporter": "python",
   "pygments_lexer": "ipython3",
   "version": "3.10.9"
  }
 },
 "nbformat": 4,
 "nbformat_minor": 2
}
