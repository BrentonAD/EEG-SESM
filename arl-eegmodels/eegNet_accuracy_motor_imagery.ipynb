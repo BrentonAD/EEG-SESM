{
 "cells": [
  {
   "cell_type": "markdown",
   "metadata": {},
   "source": [
    "# EEG Net Accuracy"
   ]
  },
  {
   "cell_type": "code",
   "execution_count": 1,
   "metadata": {},
   "outputs": [],
   "source": [
    "import os\n",
    "import pickle\n",
    "\n",
    "import pandas as pd\n",
    "import numpy as np\n",
    "import matplotlib.pyplot as plt\n",
    "import seaborn as sns\n",
    "\n",
    "from sklearn.metrics import confusion_matrix, classification_report, accuracy_score, precision_score, recall_score\n",
    "\n",
    "import tensorflow as tf\n",
    "\n",
    "from utils import get_data"
   ]
  },
  {
   "cell_type": "code",
   "execution_count": 2,
   "metadata": {},
   "outputs": [],
   "source": [
    "CLASS_DICT = {\n",
    "    0: \"Left\",\n",
    "    1: \"Right\"\n",
    "}\n",
    "\n",
    "SPLIT = 'split9'"
   ]
  },
  {
   "cell_type": "code",
   "execution_count": 3,
   "metadata": {},
   "outputs": [
    {
     "name": "stderr",
     "output_type": "stream",
     "text": [
      "2024-07-29 21:58:56.338690: I metal_plugin/src/device/metal_device.cc:1154] Metal device set to: Apple M1 Pro\n",
      "2024-07-29 21:58:56.338713: I metal_plugin/src/device/metal_device.cc:296] systemMemory: 32.00 GB\n",
      "2024-07-29 21:58:56.338718: I metal_plugin/src/device/metal_device.cc:313] maxCacheSize: 10.67 GB\n",
      "2024-07-29 21:58:56.338778: I tensorflow/core/common_runtime/pluggable_device/pluggable_device_factory.cc:303] Could not identify NUMA node of platform GPU ID 0, defaulting to 0. Your kernel may not have been built with NUMA support.\n",
      "2024-07-29 21:58:56.338810: I tensorflow/core/common_runtime/pluggable_device/pluggable_device_factory.cc:269] Created TensorFlow device (/job:localhost/replica:0/task:0/device:GPU:0 with 0 MB memory) -> physical PluggableDevice (device: 0, name: METAL, pci bus id: <undefined>)\n"
     ]
    },
    {
     "name": "stdout",
     "output_type": "stream",
     "text": [
      "Load training set:\n",
      "Loading ../SESM/datasets/eeg/motor_imagery/prepared/s01.npz ...\n",
      "Loading ../SESM/datasets/eeg/motor_imagery/prepared/s02.npz ...\n",
      "Loading ../SESM/datasets/eeg/motor_imagery/prepared/s03.npz ...\n",
      "Loading ../SESM/datasets/eeg/motor_imagery/prepared/s04.npz ...\n",
      "Loading ../SESM/datasets/eeg/motor_imagery/prepared/s05.npz ...\n",
      "Loading ../SESM/datasets/eeg/motor_imagery/prepared/s06.npz ...\n",
      "Loading ../SESM/datasets/eeg/motor_imagery/prepared/s07.npz ...\n",
      "Loading ../SESM/datasets/eeg/motor_imagery/prepared/s08.npz ...\n",
      "Loading ../SESM/datasets/eeg/motor_imagery/prepared/s09.npz ...\n",
      "Loading ../SESM/datasets/eeg/motor_imagery/prepared/s10.npz ...\n",
      "Loading ../SESM/datasets/eeg/motor_imagery/prepared/s11.npz ...\n",
      "Loading ../SESM/datasets/eeg/motor_imagery/prepared/s12.npz ...\n",
      "Loading ../SESM/datasets/eeg/motor_imagery/prepared/s14.npz ...\n",
      "Loading ../SESM/datasets/eeg/motor_imagery/prepared/s15.npz ...\n",
      "Loading ../SESM/datasets/eeg/motor_imagery/prepared/s17.npz ...\n",
      "Loading ../SESM/datasets/eeg/motor_imagery/prepared/s18.npz ...\n",
      "Loading ../SESM/datasets/eeg/motor_imagery/prepared/s20.npz ...\n",
      "Loading ../SESM/datasets/eeg/motor_imagery/prepared/s21.npz ...\n",
      "Loading ../SESM/datasets/eeg/motor_imagery/prepared/s22.npz ...\n",
      "Loading ../SESM/datasets/eeg/motor_imagery/prepared/s23.npz ...\n",
      "Loading ../SESM/datasets/eeg/motor_imagery/prepared/s24.npz ...\n",
      "Loading ../SESM/datasets/eeg/motor_imagery/prepared/s25.npz ...\n",
      "Loading ../SESM/datasets/eeg/motor_imagery/prepared/s26.npz ...\n",
      "Loading ../SESM/datasets/eeg/motor_imagery/prepared/s27.npz ...\n",
      "Loading ../SESM/datasets/eeg/motor_imagery/prepared/s30.npz ...\n",
      "Loading ../SESM/datasets/eeg/motor_imagery/prepared/s31.npz ...\n",
      "Loading ../SESM/datasets/eeg/motor_imagery/prepared/s32.npz ...\n",
      "Loading ../SESM/datasets/eeg/motor_imagery/prepared/s33.npz ...\n",
      "Loading ../SESM/datasets/eeg/motor_imagery/prepared/s35.npz ...\n",
      "Loading ../SESM/datasets/eeg/motor_imagery/prepared/s36.npz ...\n",
      "Loading ../SESM/datasets/eeg/motor_imagery/prepared/s37.npz ...\n",
      "Loading ../SESM/datasets/eeg/motor_imagery/prepared/s38.npz ...\n",
      "Loading ../SESM/datasets/eeg/motor_imagery/prepared/s39.npz ...\n",
      "Loading ../SESM/datasets/eeg/motor_imagery/prepared/s40.npz ...\n",
      "Loading ../SESM/datasets/eeg/motor_imagery/prepared/s42.npz ...\n",
      "Loading ../SESM/datasets/eeg/motor_imagery/prepared/s43.npz ...\n",
      "Loading ../SESM/datasets/eeg/motor_imagery/prepared/s45.npz ...\n",
      "Loading ../SESM/datasets/eeg/motor_imagery/prepared/s46.npz ...\n",
      "Loading ../SESM/datasets/eeg/motor_imagery/prepared/s47.npz ...\n",
      "Loading ../SESM/datasets/eeg/motor_imagery/prepared/s48.npz ...\n",
      "Loading ../SESM/datasets/eeg/motor_imagery/prepared/s51.npz ...\n",
      "Loading ../SESM/datasets/eeg/motor_imagery/prepared/s52.npz ...\n",
      " \n",
      "Load validation set:\n",
      "Loading ../SESM/datasets/eeg/motor_imagery/prepared/s19.npz ...\n",
      "Loading ../SESM/datasets/eeg/motor_imagery/prepared/s28.npz ...\n",
      "Loading ../SESM/datasets/eeg/motor_imagery/prepared/s34.npz ...\n",
      "Loading ../SESM/datasets/eeg/motor_imagery/prepared/s44.npz ...\n",
      "Loading ../SESM/datasets/eeg/motor_imagery/prepared/s49.npz ...\n",
      " \n",
      "Load test set:\n",
      "Loading ../SESM/datasets/eeg/motor_imagery/prepared/s13.npz ...\n",
      "Loading ../SESM/datasets/eeg/motor_imagery/prepared/s16.npz ...\n",
      "Loading ../SESM/datasets/eeg/motor_imagery/prepared/s29.npz ...\n",
      "Loading ../SESM/datasets/eeg/motor_imagery/prepared/s41.npz ...\n",
      "Loading ../SESM/datasets/eeg/motor_imagery/prepared/s50.npz ...\n",
      " \n"
     ]
    }
   ],
   "source": [
    "model = tf.keras.saving.load_model(f'models/eegNet/motor_imagery/{SPLIT}/trained_model.h5')\n",
    "\n",
    "train_ds, val_ds, test_ds, class_weights, max_len = get_data(dataset=\"motor_imagery\", batch_size=64)"
   ]
  },
  {
   "cell_type": "code",
   "execution_count": 4,
   "metadata": {},
   "outputs": [
    {
     "name": "stdout",
     "output_type": "stream",
     "text": [
      "13/32 [===========>..................] - ETA: 0s"
     ]
    },
    {
     "name": "stderr",
     "output_type": "stream",
     "text": [
      "2024-07-29 21:59:00.036340: I tensorflow/core/grappler/optimizers/custom_graph_optimizer_registry.cc:114] Plugin optimizer for device_type GPU is enabled.\n"
     ]
    },
    {
     "name": "stdout",
     "output_type": "stream",
     "text": [
      "32/32 [==============================] - 0s 5ms/step\n"
     ]
    }
   ],
   "source": [
    "# Extract data and labels from the dataset\n",
    "test_data = []\n",
    "test_labels = []\n",
    "for x, y in test_ds:\n",
    "    test_data.append(x)\n",
    "    test_labels.append(y)\n",
    "\n",
    "# Concatenate the dataset batches into NumPy arrays\n",
    "test_data = np.concatenate(test_data)\n",
    "test_labels = np.concatenate(test_labels)\n",
    "\n",
    "# Make predictions on the test data\n",
    "predictions = model.predict(test_data)\n",
    "\n",
    "# Convert predictions to class labels\n",
    "predicted_labels = ((predictions > 0.5)+0).ravel()\n",
    "\n",
    "os.makedirs('test_outputs', exist_ok=True)\n",
    "os.makedirs('test_outputs/motor_imagery', exist_ok=True)\n",
    "os.makedirs(f'test_outputs/motor_imagery/{SPLIT}', exist_ok=True)\n",
    "\n",
    "with open(f'test_outputs/motor_imagery/{SPLIT}/y_true_test.pkl','wb') as f:\n",
    "    pickle.dump(test_labels, f, protocol=pickle.HIGHEST_PROTOCOL)\n",
    "\n",
    "with open(f'test_outputs/motor_imagery/{SPLIT}/y_pred_test.pkl','wb') as f:\n",
    "    pickle.dump(predicted_labels, f, protocol=pickle.HIGHEST_PROTOCOL)\n"
   ]
  },
  {
   "cell_type": "code",
   "execution_count": 5,
   "metadata": {},
   "outputs": [
    {
     "name": "stderr",
     "output_type": "stream",
     "text": [
      "2024-07-29 21:59:01.142495: I tensorflow/core/grappler/optimizers/custom_graph_optimizer_registry.cc:114] Plugin optimizer for device_type GPU is enabled.\n"
     ]
    },
    {
     "name": "stdout",
     "output_type": "stream",
     "text": [
      "Test Loss: 0.5526\n",
      "Test Accuracy: 73.60%\n",
      "32/32 [==============================] - 0s 5ms/step\n",
      "Test Precision: 73.60%\n",
      "Test Recall: 73.60%\n"
     ]
    },
    {
     "data": {
      "image/png": "[encoded data removed]",
      "text/plain": [
       "<Figure size 800x600 with 1 Axes>"
      ]
     },
     "metadata": {},
     "output_type": "display_data"
    },
    {
     "name": "stdout",
     "output_type": "stream",
     "text": [
      "              precision    recall  f1-score   support\n",
      "\n",
      "        Left       0.73      0.74      0.74       500\n",
      "       Right       0.74      0.73      0.73       500\n",
      "\n",
      "    accuracy                           0.74      1000\n",
      "   macro avg       0.74      0.74      0.74      1000\n",
      "weighted avg       0.74      0.74      0.74      1000\n",
      "\n",
      "\n",
      "\n",
      "Accuracy for Left: 74.20%\n",
      "Accuracy for Right: 73.00%\n"
     ]
    }
   ],
   "source": [
    "# Evaluate the model on the test dataset\n",
    "test_loss, test_accuracy = model.evaluate(test_data, test_labels, verbose=0)\n",
    "\n",
    "print(f'Test Loss: {test_loss:.4f}')\n",
    "print(f'Test Accuracy: {test_accuracy*100:.2f}%')\n",
    "\n",
    "# Make predictions on the test data\n",
    "predictions = model.predict(test_data)\n",
    "\n",
    "# Convert predictions to class labels\n",
    "predicted_labels = ((predictions > 0.5)+0).ravel()\n",
    "\n",
    "precision = precision_score(test_labels, predicted_labels, average='macro')\n",
    "recall = recall_score(test_labels, predicted_labels, average='macro')\n",
    "print(f'Test Precision: {precision*100:.2f}%')\n",
    "print(f'Test Recall: {recall*100:.2f}%')\n",
    "\n",
    "# Create a confusion matrix\n",
    "confusion = confusion_matrix(test_labels, predicted_labels)\n",
    "\n",
    "class_names = CLASS_DICT.values()\n",
    "\n",
    "# Plot the confusion matrix as a heatmap\n",
    "plt.figure(figsize=(8, 6))\n",
    "sns.heatmap(confusion, annot=True, fmt='d', cmap='Greens', cbar=False, annot_kws={\"fontsize\":28})\n",
    "plt.xlabel('Predicted Labels', fontsize=28)\n",
    "plt.gca().set_xticklabels(class_names, fontsize=24)\n",
    "plt.ylabel('True Labels', fontsize=28)\n",
    "plt.gca().set_yticklabels(class_names, fontsize=24)\n",
    "plt.show()\n",
    "\n",
    "# Generate a classification report\n",
    "report = classification_report(test_labels, predicted_labels, target_names=class_names)\n",
    "print(report)\n",
    "\n",
    "# Calculate class-wise accuracy\n",
    "class_accuracy = confusion.diagonal()/confusion.sum(axis=1)\n",
    "\n",
    "print(\"\\n\")\n",
    "# Print class-wise accuracy\n",
    "for i, class_name in enumerate(class_names):\n",
    "    print(f'Accuracy for {class_name}: {class_accuracy[i]*100:.2f}%')\n",
    "\n",
    "plt.show()"
   ]
  },
  {
   "cell_type": "markdown",
   "metadata": {},
   "source": [
    "# Calculate main results"
   ]
  },
  {
   "cell_type": "code",
   "execution_count": 90,
   "metadata": {},
   "outputs": [],
   "source": [
    "class_names = CLASS_DICT.values()\n",
    "\n",
    "# Load the experiments\n",
    "splits = [f'split{n}' for n in range(1,10)]\n",
    "split_results = []\n",
    "classwise_accuracies = []\n",
    "\n",
    "for split in splits:\n",
    "\n",
    "    with open(f'test_outputs/motor_imagery/{split}/y_true_test.pkl','rb') as f:\n",
    "        y_true = pickle.load(f)\n",
    "    \n",
    "    with open(f'test_outputs/motor_imagery/{split}/y_pred_test.pkl','rb') as f:\n",
    "        y_pred = pickle.load(f)\n",
    "\n",
    "    accuracy = accuracy_score(y_true, y_pred)\n",
    "    precision = precision_score(y_true, y_pred, average=\"macro\")\n",
    "    recall = recall_score(y_true, y_pred, average=\"macro\")\n",
    "\n",
    "    row = {\n",
    "        \"experiment\": split,\n",
    "        \"accuracy\": accuracy,\n",
    "        \"precision\": precision,\n",
    "        \"recall\": recall\n",
    "    }\n",
    "    split_results.append(row)\n",
    "\n",
    "    # Create a confusion matrix\n",
    "    confusion = confusion_matrix(y_true, y_pred)\n",
    "    class_accuracy = confusion.diagonal()/confusion.sum(axis=1)\n",
    "\n",
    "    classwise_row = { class_name: class_accuracy[i] for i, class_name in enumerate(class_names) }\n",
    "    classwise_row[\"experiment\"] = split\n",
    "    classwise_accuracies.append(classwise_row)"
   ]
  },
  {
   "cell_type": "code",
   "execution_count": 91,
   "metadata": {},
   "outputs": [
    {
     "data": {
      "text/html": [
       "<div>\n",
       "<style scoped>\n",
       "    .dataframe tbody tr th:only-of-type {\n",
       "        vertical-align: middle;\n",
       "    }\n",
       "\n",
       "    .dataframe tbody tr th {\n",
       "        vertical-align: top;\n",
       "    }\n",
       "\n",
       "    .dataframe thead th {\n",
       "        text-align: right;\n",
       "    }\n",
       "</style>\n",
       "<table border=\"1\" class=\"dataframe\">\n",
       "  <thead>\n",
       "    <tr style=\"text-align: right;\">\n",
       "      <th></th>\n",
       "      <th>experiment</th>\n",
       "      <th>accuracy</th>\n",
       "      <th>precision</th>\n",
       "      <th>recall</th>\n",
       "    </tr>\n",
       "  </thead>\n",
       "  <tbody>\n",
       "    <tr>\n",
       "      <th>0</th>\n",
       "      <td>split1</td>\n",
       "      <td>0.679</td>\n",
       "      <td>0.682899</td>\n",
       "      <td>0.679</td>\n",
       "    </tr>\n",
       "    <tr>\n",
       "      <th>1</th>\n",
       "      <td>split2</td>\n",
       "      <td>0.654</td>\n",
       "      <td>0.654022</td>\n",
       "      <td>0.654</td>\n",
       "    </tr>\n",
       "    <tr>\n",
       "      <th>2</th>\n",
       "      <td>split3</td>\n",
       "      <td>0.663</td>\n",
       "      <td>0.664714</td>\n",
       "      <td>0.663</td>\n",
       "    </tr>\n",
       "    <tr>\n",
       "      <th>3</th>\n",
       "      <td>split4</td>\n",
       "      <td>0.652</td>\n",
       "      <td>0.657569</td>\n",
       "      <td>0.652</td>\n",
       "    </tr>\n",
       "    <tr>\n",
       "      <th>4</th>\n",
       "      <td>split5</td>\n",
       "      <td>0.673</td>\n",
       "      <td>0.673250</td>\n",
       "      <td>0.673</td>\n",
       "    </tr>\n",
       "    <tr>\n",
       "      <th>5</th>\n",
       "      <td>split6</td>\n",
       "      <td>0.661</td>\n",
       "      <td>0.663433</td>\n",
       "      <td>0.661</td>\n",
       "    </tr>\n",
       "    <tr>\n",
       "      <th>6</th>\n",
       "      <td>split7</td>\n",
       "      <td>0.652</td>\n",
       "      <td>0.652061</td>\n",
       "      <td>0.652</td>\n",
       "    </tr>\n",
       "    <tr>\n",
       "      <th>7</th>\n",
       "      <td>split8</td>\n",
       "      <td>0.671</td>\n",
       "      <td>0.671001</td>\n",
       "      <td>0.671</td>\n",
       "    </tr>\n",
       "    <tr>\n",
       "      <th>8</th>\n",
       "      <td>split9</td>\n",
       "      <td>0.642</td>\n",
       "      <td>0.642057</td>\n",
       "      <td>0.642</td>\n",
       "    </tr>\n",
       "  </tbody>\n",
       "</table>\n",
       "</div>"
      ],
      "text/plain": [
       "  experiment  accuracy  precision  recall\n",
       "0     split1     0.679   0.682899   0.679\n",
       "1     split2     0.654   0.654022   0.654\n",
       "2     split3     0.663   0.664714   0.663\n",
       "3     split4     0.652   0.657569   0.652\n",
       "4     split5     0.673   0.673250   0.673\n",
       "5     split6     0.661   0.663433   0.661\n",
       "6     split7     0.652   0.652061   0.652\n",
       "7     split8     0.671   0.671001   0.671\n",
       "8     split9     0.642   0.642057   0.642"
      ]
     },
     "metadata": {},
     "output_type": "display_data"
    },
    {
     "data": {
      "text/html": [
       "<div>\n",
       "<style scoped>\n",
       "    .dataframe tbody tr th:only-of-type {\n",
       "        vertical-align: middle;\n",
       "    }\n",
       "\n",
       "    .dataframe tbody tr th {\n",
       "        vertical-align: top;\n",
       "    }\n",
       "\n",
       "    .dataframe thead th {\n",
       "        text-align: right;\n",
       "    }\n",
       "</style>\n",
       "<table border=\"1\" class=\"dataframe\">\n",
       "  <thead>\n",
       "    <tr style=\"text-align: right;\">\n",
       "      <th></th>\n",
       "      <th>Left</th>\n",
       "      <th>Right</th>\n",
       "      <th>experiment</th>\n",
       "    </tr>\n",
       "  </thead>\n",
       "  <tbody>\n",
       "    <tr>\n",
       "      <th>0</th>\n",
       "      <td>0.752</td>\n",
       "      <td>0.606</td>\n",
       "      <td>split1</td>\n",
       "    </tr>\n",
       "    <tr>\n",
       "      <th>1</th>\n",
       "      <td>0.648</td>\n",
       "      <td>0.660</td>\n",
       "      <td>split2</td>\n",
       "    </tr>\n",
       "    <tr>\n",
       "      <th>2</th>\n",
       "      <td>0.714</td>\n",
       "      <td>0.612</td>\n",
       "      <td>split3</td>\n",
       "    </tr>\n",
       "    <tr>\n",
       "      <th>3</th>\n",
       "      <td>0.746</td>\n",
       "      <td>0.558</td>\n",
       "      <td>split4</td>\n",
       "    </tr>\n",
       "    <tr>\n",
       "      <th>4</th>\n",
       "      <td>0.692</td>\n",
       "      <td>0.654</td>\n",
       "      <td>split5</td>\n",
       "    </tr>\n",
       "    <tr>\n",
       "      <th>5</th>\n",
       "      <td>0.722</td>\n",
       "      <td>0.600</td>\n",
       "      <td>split6</td>\n",
       "    </tr>\n",
       "    <tr>\n",
       "      <th>6</th>\n",
       "      <td>0.642</td>\n",
       "      <td>0.662</td>\n",
       "      <td>split7</td>\n",
       "    </tr>\n",
       "    <tr>\n",
       "      <th>7</th>\n",
       "      <td>0.672</td>\n",
       "      <td>0.670</td>\n",
       "      <td>split8</td>\n",
       "    </tr>\n",
       "    <tr>\n",
       "      <th>8</th>\n",
       "      <td>0.652</td>\n",
       "      <td>0.632</td>\n",
       "      <td>split9</td>\n",
       "    </tr>\n",
       "  </tbody>\n",
       "</table>\n",
       "</div>"
      ],
      "text/plain": [
       "    Left  Right experiment\n",
       "0  0.752  0.606     split1\n",
       "1  0.648  0.660     split2\n",
       "2  0.714  0.612     split3\n",
       "3  0.746  0.558     split4\n",
       "4  0.692  0.654     split5\n",
       "5  0.722  0.600     split6\n",
       "6  0.642  0.662     split7\n",
       "7  0.672  0.670     split8\n",
       "8  0.652  0.632     split9"
      ]
     },
     "metadata": {},
     "output_type": "display_data"
    }
   ],
   "source": [
    "results_df = pd.DataFrame(split_results)\n",
    "classwise_results = pd.DataFrame(classwise_accuracies)\n",
    "\n",
    "display(results_df)\n",
    "display(classwise_results)"
   ]
  },
  {
   "cell_type": "code",
   "execution_count": 92,
   "metadata": {},
   "outputs": [
    {
     "data": {
      "text/html": [
       "<div>\n",
       "<style scoped>\n",
       "    .dataframe tbody tr th:only-of-type {\n",
       "        vertical-align: middle;\n",
       "    }\n",
       "\n",
       "    .dataframe tbody tr th {\n",
       "        vertical-align: top;\n",
       "    }\n",
       "\n",
       "    .dataframe thead th {\n",
       "        text-align: right;\n",
       "    }\n",
       "</style>\n",
       "<table border=\"1\" class=\"dataframe\">\n",
       "  <thead>\n",
       "    <tr style=\"text-align: right;\">\n",
       "      <th></th>\n",
       "      <th>mean</th>\n",
       "      <th>std</th>\n",
       "    </tr>\n",
       "  </thead>\n",
       "  <tbody>\n",
       "    <tr>\n",
       "      <th>accuracy</th>\n",
       "      <td>0.660778</td>\n",
       "      <td>0.011956</td>\n",
       "    </tr>\n",
       "    <tr>\n",
       "      <th>precision</th>\n",
       "      <td>0.662334</td>\n",
       "      <td>0.012412</td>\n",
       "    </tr>\n",
       "    <tr>\n",
       "      <th>recall</th>\n",
       "      <td>0.660778</td>\n",
       "      <td>0.011956</td>\n",
       "    </tr>\n",
       "  </tbody>\n",
       "</table>\n",
       "</div>"
      ],
      "text/plain": [
       "               mean       std\n",
       "accuracy   0.660778  0.011956\n",
       "precision  0.662334  0.012412\n",
       "recall     0.660778  0.011956"
      ]
     },
     "metadata": {},
     "output_type": "display_data"
    }
   ],
   "source": [
    "# Calculate mean and standard deviation\n",
    "agg_mean = results_df.loc[:,[\"accuracy\",\"precision\", \"recall\"]].mean()\n",
    "agg_std = results_df.loc[:,[\"accuracy\",\"precision\", \"recall\"]].std()\n",
    "\n",
    "# Create a new dataframe for aggregation\n",
    "agg_df = pd.DataFrame({'mean': agg_mean, 'std': agg_std})\n",
    "display(agg_df)"
   ]
  },
  {
   "cell_type": "code",
   "execution_count": 93,
   "metadata": {},
   "outputs": [
    {
     "data": {
      "text/html": [
       "<div>\n",
       "<style scoped>\n",
       "    .dataframe tbody tr th:only-of-type {\n",
       "        vertical-align: middle;\n",
       "    }\n",
       "\n",
       "    .dataframe tbody tr th {\n",
       "        vertical-align: top;\n",
       "    }\n",
       "\n",
       "    .dataframe thead th {\n",
       "        text-align: right;\n",
       "    }\n",
       "</style>\n",
       "<table border=\"1\" class=\"dataframe\">\n",
       "  <thead>\n",
       "    <tr style=\"text-align: right;\">\n",
       "      <th></th>\n",
       "      <th>mean</th>\n",
       "      <th>std</th>\n",
       "    </tr>\n",
       "  </thead>\n",
       "  <tbody>\n",
       "    <tr>\n",
       "      <th>Left</th>\n",
       "      <td>0.693333</td>\n",
       "      <td>0.042308</td>\n",
       "    </tr>\n",
       "    <tr>\n",
       "      <th>Right</th>\n",
       "      <td>0.628222</td>\n",
       "      <td>0.037181</td>\n",
       "    </tr>\n",
       "  </tbody>\n",
       "</table>\n",
       "</div>"
      ],
      "text/plain": [
       "           mean       std\n",
       "Left   0.693333  0.042308\n",
       "Right  0.628222  0.037181"
      ]
     },
     "metadata": {},
     "output_type": "display_data"
    }
   ],
   "source": [
    "# Calculate mean and standard deviation\n",
    "classwise_agg_mean = classwise_results.loc[:,list(class_names)].mean()\n",
    "classwise_agg_std = classwise_results.loc[:,list(class_names)].std()\n",
    "\n",
    "# Create a new dataframe for classwise_aggregation\n",
    "classwise_agg_df = pd.DataFrame({'mean': classwise_agg_mean, 'std': classwise_agg_std})\n",
    "display(classwise_agg_df)"
   ]
  },
  {
   "cell_type": "code",
   "execution_count": 6,
   "metadata": {},
   "outputs": [],
   "source": [
    "y_trues = []\n",
    "y_preds = []\n",
    "\n",
    "for split in [f'split{n}' for n in range(1,10)]:\n",
    "\n",
    "    with open(f'test_outputs/motor_imagery/{split}/y_true_test.pkl','rb') as f:\n",
    "        y_true = pickle.load(f)\n",
    "    \n",
    "    with open(f'test_outputs/motor_imagery/{split}/y_pred_test.pkl','rb') as f:\n",
    "        y_pred = pickle.load(f)\n",
    "    \n",
    "    y_trues.append(y_true)\n",
    "    y_preds.append(y_pred)\n",
    "\n",
    "y_true = np.concatenate(y_trues)\n",
    "y_pred = np.concatenate(y_preds)"
   ]
  },
  {
   "cell_type": "code",
   "execution_count": 7,
   "metadata": {},
   "outputs": [
    {
     "data": {
      "image/png": "[encoded data removed]",
      "text/plain": [
       "<Figure size 800x600 with 1 Axes>"
      ]
     },
     "metadata": {},
     "output_type": "display_data"
    }
   ],
   "source": [
    "C = confusion_matrix(y_true, y_pred)\n",
    "C = C / C.astype(float).sum(axis=0)\n",
    "\n",
    "fig, ax = plt.subplots(figsize=(8, 6))\n",
    "\n",
    "sns.heatmap(\n",
    "    C,\n",
    "    vmin=0,\n",
    "    annot=True,\n",
    "    annot_kws={\"fontsize\":28},\n",
    "    cmap='Greens',\n",
    "    cbar=False\n",
    ")\n",
    "ax.set_xticklabels(CLASS_DICT.values(), fontsize=20)\n",
    "ax.set_yticklabels(CLASS_DICT.values(), fontsize=20)\n",
    "ax.set_xlabel(\"Actual\", fontsize=28)\n",
    "ax.set_ylabel(\"Predicted\", fontsize=28)\n",
    "plt.show()"
   ]
  },
  {
   "cell_type": "code",
   "execution_count": null,
   "metadata": {},
   "outputs": [],
   "source": []
  }
 ],
 "metadata": {
  "kernelspec": {
   "display_name": "EEG-SESM",
   "language": "python",
   "name": "python3"
  },
  "language_info": {
   "codemirror_mode": {
    "name": "ipython",
    "version": 3
   },
   "file_extension": ".py",
   "mimetype": "text/x-python",
   "name": "python",
   "nbconvert_exporter": "python",
   "pygments_lexer": "ipython3",
   "version": "3.8.19"
  }
 },
 "nbformat": 4,
 "nbformat_minor": 2
}
